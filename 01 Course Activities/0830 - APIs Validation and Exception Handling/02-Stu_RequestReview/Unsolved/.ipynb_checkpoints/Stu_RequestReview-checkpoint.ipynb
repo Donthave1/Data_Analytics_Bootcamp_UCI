{
 "cells": [
  {
   "cell_type": "code",
   "execution_count": 1,
   "metadata": {},
   "outputs": [],
   "source": [
    "# Dependencies\n",
    "import json\n",
    "import requests "
   ]
  },
  {
   "cell_type": "code",
   "execution_count": 10,
   "metadata": {},
   "outputs": [
    {
     "name": "stdout",
     "output_type": "stream",
     "text": [
      "200\n"
     ]
    }
   ],
   "source": [
    "# Specify the URL\n",
    "url = \"http://nyt-mongo-scraper.herokuapp.com/api/headlines\"\n",
    "# Make request and store response\n",
    "response = requests.get(url)\n",
    "\n",
    "print(response.status_code)"
   ]
  },
  {
   "cell_type": "code",
   "execution_count": 12,
   "metadata": {},
   "outputs": [],
   "source": [
    "# JSON-ify response\n",
    "response_json = response.json()"
   ]
  },
  {
   "cell_type": "code",
   "execution_count": 14,
   "metadata": {
    "scrolled": true
   },
   "outputs": [
    {
     "name": "stdout",
     "output_type": "stream",
     "text": [
      "The first response is {\n",
      "  \"saved\": true,\n",
      "  \"_id\": \"5b88899069c4a000145ab058\",\n",
      "  \"headline\": \"The Gender Divide in Preschoolers\\u2019 Closets\",\n",
      "  \"summary\": \"I buy my daughter boys\\u2019 pants because even in an age of female fighter pilots and #MeToo, boys\\u2019 clothes are largely designed to be practical, while girls\\u2019 are designed to be pretty.\",\n",
      "  \"url\": \"https://www.nytimes.com/2018/08/28/well/family/the-gender-divide-in-preschoolers-closets.html?imp_id=467428639\",\n",
      "  \"date\": \"2018-08-31T00:19:28.550Z\",\n",
      "  \"__v\": 0\n",
      "}\n",
      "The last response is {\n",
      "  \"saved\": false,\n",
      "  \"_id\": \"5b88899069c4a000145ab04e\",\n",
      "  \"headline\": \"Your Evening Briefing\",\n",
      "  \"summary\": \"Here\\u2019s what you need to know at the end of the day.\",\n",
      "  \"url\": \"https://www.nytimes.com/2018/08/30/briefing/john-mccain-colin-kaepernick-us-open.html?imp_id=480955247\",\n",
      "  \"date\": \"2018-08-31T00:19:28.543Z\",\n",
      "  \"__v\": 0\n",
      "}\n"
     ]
    }
   ],
   "source": [
    "# Print first and last articles\n",
    "first_post = response_json[0]\n",
    "last_post = response_json[-1]\n",
    "\n",
    "print(f\"The first response is {json.dumps(response_json[0], indent=2)}\")\n",
    "print(f\"The last response is {json.dumps(response_json[-1], indent=2)}\")\n"
   ]
  },
  {
   "cell_type": "code",
   "execution_count": 15,
   "metadata": {},
   "outputs": [
    {
     "name": "stdout",
     "output_type": "stream",
     "text": [
      "We received 11 responses\n"
     ]
    }
   ],
   "source": [
    "#Print the number of responses received.\n",
    "\n",
    "print(f\"We received {len(response_json)} responses\")"
   ]
  },
  {
   "cell_type": "code",
   "execution_count": null,
   "metadata": {},
   "outputs": [],
   "source": []
  }
 ],
 "metadata": {
  "kernelspec": {
   "display_name": "Python [default]",
   "language": "python",
   "name": "python3"
  },
  "language_info": {
   "codemirror_mode": {
    "name": "ipython",
    "version": 3
   },
   "file_extension": ".py",
   "mimetype": "text/x-python",
   "name": "python",
   "nbconvert_exporter": "python",
   "pygments_lexer": "ipython3",
   "version": "3.6.5"
  },
  "varInspector": {
   "cols": {
    "lenName": 16,
    "lenType": 16,
    "lenVar": 40
   },
   "kernels_config": {
    "python": {
     "delete_cmd_postfix": "",
     "delete_cmd_prefix": "del ",
     "library": "var_list.py",
     "varRefreshCmd": "print(var_dic_list())"
    },
    "r": {
     "delete_cmd_postfix": ") ",
     "delete_cmd_prefix": "rm(",
     "library": "var_list.r",
     "varRefreshCmd": "cat(var_dic_list()) "
    }
   },
   "types_to_exclude": [
    "module",
    "function",
    "builtin_function_or_method",
    "instance",
    "_Feature"
   ],
   "window_display": false
  }
 },
 "nbformat": 4,
 "nbformat_minor": 2
}
