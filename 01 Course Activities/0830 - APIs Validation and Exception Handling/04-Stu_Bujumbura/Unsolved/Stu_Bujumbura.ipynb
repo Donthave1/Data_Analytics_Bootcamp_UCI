{
 "cells": [
  {
   "cell_type": "code",
   "execution_count": 2,
   "metadata": {},
   "outputs": [],
   "source": [
    "# Dependencies\n",
    "import requests\n",
    "from config import api_key\n",
    "from pprint import pprint"
   ]
  },
  {
   "cell_type": "code",
   "execution_count": 3,
   "metadata": {
    "scrolled": true
   },
   "outputs": [
    {
     "name": "stdout",
     "output_type": "stream",
     "text": [
      "{'base': 'stations',\n",
      " 'clouds': {'all': 48},\n",
      " 'cod': 200,\n",
      " 'coord': {'lat': -3.36, 'lon': 29.37},\n",
      " 'dt': 1535722303,\n",
      " 'id': 425378,\n",
      " 'main': {'grnd_level': 855.05,\n",
      "          'humidity': 65,\n",
      "          'pressure': 855.05,\n",
      "          'sea_level': 1018.92,\n",
      "          'temp': 22.89,\n",
      "          'temp_max': 22.89,\n",
      "          'temp_min': 22.89},\n",
      " 'name': 'Bujumbura',\n",
      " 'sys': {'country': 'BI',\n",
      "         'message': 0.0408,\n",
      "         'sunrise': 1535688085,\n",
      "         'sunset': 1535731442},\n",
      " 'weather': [{'description': 'scattered clouds',\n",
      "              'icon': '03d',\n",
      "              'id': 802,\n",
      "              'main': 'Clouds'}],\n",
      " 'wind': {'deg': 146.004, 'speed': 1.26}}\n"
     ]
    }
   ],
   "source": [
    "# Build query URL and request your results in Celsius\n",
    "url = \"http://api.openweathermap.org/data/2.5/weather?\"\n",
    "city = \"Bujumbura\"\n",
    "units = \"metric\"\n",
    "query_url = f\"{url}appid={api_key}&q={city}&units={units}\"\n",
    "# Get weather data\n",
    "weather_json = requests.get(query_url).json()\n",
    "pprint(weather_json)"
   ]
  },
  {
   "cell_type": "code",
   "execution_count": 4,
   "metadata": {},
   "outputs": [],
   "source": [
    "# Get temperature from JSON response\n",
    "temperature = weather_json['main']['temp']"
   ]
  },
  {
   "cell_type": "code",
   "execution_count": 5,
   "metadata": {},
   "outputs": [
    {
     "name": "stdout",
     "output_type": "stream",
     "text": [
      "The temperature in Bujumbura is 22.89 C.\n"
     ]
    }
   ],
   "source": [
    "# Report temperature\n",
    "print(f\"The temperature in {city} is {temperature} C.\")"
   ]
  },
  {
   "cell_type": "code",
   "execution_count": 6,
   "metadata": {},
   "outputs": [
    {
     "name": "stdout",
     "output_type": "stream",
     "text": [
      "The temperature in Bujumbura is 22.89C or 73.2F\n"
     ]
    }
   ],
   "source": [
    "units = [\"metric\", \"imperial\"]\n",
    "temperature = []\n",
    "\n",
    "for unit in units:\n",
    "    query_url = f\"{url}appid={api_key}&q={city}&units={unit}\"\n",
    "    weather_json = requests.get(query_url).json()\n",
    "    temp = weather_json[\"main\"][\"temp\"]\n",
    "    temperature.append(temp)\n",
    "    \n",
    "print(f\"The temperature in {city} is {temperature[0]}C or {temperature[1]}F\")"
   ]
  },
  {
   "cell_type": "code",
   "execution_count": null,
   "metadata": {},
   "outputs": [],
   "source": []
  }
 ],
 "metadata": {
  "kernelspec": {
   "display_name": "Python [conda env:PythonData]",
   "language": "python",
   "name": "conda-env-PythonData-py"
  },
  "language_info": {
   "codemirror_mode": {
    "name": "ipython",
    "version": 3
   },
   "file_extension": ".py",
   "mimetype": "text/x-python",
   "name": "python",
   "nbconvert_exporter": "python",
   "pygments_lexer": "ipython3",
   "version": "3.6.5"
  },
  "varInspector": {
   "cols": {
    "lenName": 16,
    "lenType": 16,
    "lenVar": 40
   },
   "kernels_config": {
    "python": {
     "delete_cmd_postfix": "",
     "delete_cmd_prefix": "del ",
     "library": "var_list.py",
     "varRefreshCmd": "print(var_dic_list())"
    },
    "r": {
     "delete_cmd_postfix": ") ",
     "delete_cmd_prefix": "rm(",
     "library": "var_list.r",
     "varRefreshCmd": "cat(var_dic_list()) "
    }
   },
   "types_to_exclude": [
    "module",
    "function",
    "builtin_function_or_method",
    "instance",
    "_Feature"
   ],
   "window_display": false
  }
 },
 "nbformat": 4,
 "nbformat_minor": 2
}
