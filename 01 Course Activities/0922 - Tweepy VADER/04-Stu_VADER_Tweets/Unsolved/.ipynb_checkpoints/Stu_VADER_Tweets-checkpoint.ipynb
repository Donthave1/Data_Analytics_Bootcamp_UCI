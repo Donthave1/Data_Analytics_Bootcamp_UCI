{
 "cells": [
  {
   "cell_type": "code",
   "execution_count": 1,
   "metadata": {},
   "outputs": [],
   "source": [
    "# Dependencies\n",
    "import tweepy\n",
    "import numpy as np\n",
    "import pandas as pd\n",
    "\n",
    "# Import and Initialize Sentiment Analyzer\n",
    "from vaderSentiment.vaderSentiment import SentimentIntensityAnalyzer\n",
    "analyzer = SentimentIntensityAnalyzer()\n",
    "\n",
    "# Twitter API Keys\n",
    "from config import (consumer_key,\n",
    "                    consumer_secret,\n",
    "                    access_token,\n",
    "                    access_token_secret)\n",
    "\n",
    "# Setup Tweepy API Authentication\n",
    "auth = tweepy.OAuthHandler(consumer_key, consumer_secret)\n",
    "auth.set_access_token(access_token, access_token_secret)\n",
    "api = tweepy.API(auth, parser=tweepy.parsers.JSONParser())"
   ]
  },
  {
   "cell_type": "code",
   "execution_count": 2,
   "metadata": {},
   "outputs": [],
   "source": [
    "def run_vader(text, score_results):\n",
    "    results = analyzer.polarity_scores(text)\n",
    "    # Add each value to the appropriate list\n",
    "    score_results['compound'].append(results['compound'])\n",
    "    score_results['positive'].append(results['pos'])\n",
    "    score_results['negative'].append(results['neg'])\n",
    "    score_results['neutral'].append(results['neu'])\n",
    "    return score_results"
   ]
  },
  {
   "cell_type": "code",
   "execution_count": 3,
   "metadata": {},
   "outputs": [],
   "source": [
    "def get_results(tweet_timeline, score_results):\n",
    "     # Loop through all tweets\n",
    "    for tweet in public_tweets:\n",
    "        # Run Vader Analysis on each tweet\n",
    "        score_results = run_vader(tweet[\"text\"], score_results)\n",
    "            \n",
    "    return score_results"
   ]
  },
  {
   "cell_type": "code",
   "execution_count": 4,
   "metadata": {},
   "outputs": [
    {
     "name": "stdout",
     "output_type": "stream",
     "text": [
      "User: @DalaiLama\n",
      "Compound: 0.444\n",
      "Positive: 0.247\n",
      "Neutral: 0.693\n",
      "Negative: 0.060\n",
      "User: @realdonaldtrump\n",
      "Compound: 0.185\n",
      "Positive: 0.139\n",
      "Neutral: 0.816\n",
      "Negative: 0.045\n",
      "User: @katyperry\n",
      "Compound: 0.215\n",
      "Positive: 0.128\n",
      "Neutral: 0.848\n",
      "Negative: 0.024\n"
     ]
    }
   ],
   "source": [
    "# Target User Account\n",
    "target_user = (\"@DalaiLama\", \"@realdonaldtrump\", \"@katyperry\")\n",
    "\n",
    "# Loop through all user\n",
    "result_list = []\n",
    "\n",
    "for user in target_user:\n",
    "    # Variables for holding sentiments\n",
    "    score_results = {\n",
    "        \"compound\": [],\n",
    "        \"positive\": [],\n",
    "        \"neutral\": [],\n",
    "        \"negative\": []\n",
    "    }\n",
    "\n",
    "    \n",
    "    # Loop through 10 pages of tweets (total 200 tweets)\n",
    "    for x in range(1, 11):\n",
    "\n",
    "        # Get all tweets from home feed\n",
    "        public_tweets = api.user_timeline(user, page=x)\n",
    "        \n",
    "        score_results = get_results(public_tweets, score_results)\n",
    "            \n",
    "    user_results = {\n",
    "        \"Username\": user,\n",
    "        \"Compound Score\": np.mean(score_results['compound']),\n",
    "        \"Positive Score\": np.mean(score_results['positive']),\n",
    "        \"Negative Score\": np.mean(score_results['negative']),\n",
    "        \"Neutral Score\": np.mean(score_results['neutral'])\n",
    "    }\n",
    "    \n",
    "    result_list.append(user_results)\n",
    "    \n",
    "    # Print the Averages\n",
    "    print(f\"User: {user_results['Username']}\")\n",
    "    print(f\"Compound: {user_results['Compound Score']:.3f}\")\n",
    "    print(f\"Positive: {user_results['Positive Score']:.3f}\")\n",
    "    print(f\"Neutral: {user_results['Neutral Score']:.3f}\")\n",
    "    print(f\"Negative: {user_results['Negative Score']:.3f}\")"
   ]
  },
  {
   "cell_type": "code",
   "execution_count": 5,
   "metadata": {},
   "outputs": [
    {
     "data": {
      "text/html": [
       "<div>\n",
       "<style scoped>\n",
       "    .dataframe tbody tr th:only-of-type {\n",
       "        vertical-align: middle;\n",
       "    }\n",
       "\n",
       "    .dataframe tbody tr th {\n",
       "        vertical-align: top;\n",
       "    }\n",
       "\n",
       "    .dataframe thead th {\n",
       "        text-align: right;\n",
       "    }\n",
       "</style>\n",
       "<table border=\"1\" class=\"dataframe\">\n",
       "  <thead>\n",
       "    <tr style=\"text-align: right;\">\n",
       "      <th></th>\n",
       "      <th>Compound Score</th>\n",
       "      <th>Negative Score</th>\n",
       "      <th>Neutral Score</th>\n",
       "      <th>Positive Score</th>\n",
       "    </tr>\n",
       "    <tr>\n",
       "      <th>Username</th>\n",
       "      <th></th>\n",
       "      <th></th>\n",
       "      <th></th>\n",
       "      <th></th>\n",
       "    </tr>\n",
       "  </thead>\n",
       "  <tbody>\n",
       "    <tr>\n",
       "      <th>@DalaiLama</th>\n",
       "      <td>0.444</td>\n",
       "      <td>0.060</td>\n",
       "      <td>0.693</td>\n",
       "      <td>0.247</td>\n",
       "    </tr>\n",
       "    <tr>\n",
       "      <th>@realdonaldtrump</th>\n",
       "      <td>0.185</td>\n",
       "      <td>0.045</td>\n",
       "      <td>0.816</td>\n",
       "      <td>0.139</td>\n",
       "    </tr>\n",
       "    <tr>\n",
       "      <th>@katyperry</th>\n",
       "      <td>0.215</td>\n",
       "      <td>0.024</td>\n",
       "      <td>0.848</td>\n",
       "      <td>0.128</td>\n",
       "    </tr>\n",
       "  </tbody>\n",
       "</table>\n",
       "</div>"
      ],
      "text/plain": [
       "                  Compound Score  Negative Score  Neutral Score  \\\n",
       "Username                                                          \n",
       "@DalaiLama                 0.444           0.060          0.693   \n",
       "@realdonaldtrump           0.185           0.045          0.816   \n",
       "@katyperry                 0.215           0.024          0.848   \n",
       "\n",
       "                  Positive Score  \n",
       "Username                          \n",
       "@DalaiLama                 0.247  \n",
       "@realdonaldtrump           0.139  \n",
       "@katyperry                 0.128  "
      ]
     },
     "execution_count": 5,
     "metadata": {},
     "output_type": "execute_result"
    }
   ],
   "source": [
    "results_df = pd.DataFrame(result_list).set_index(\"Username\").round(3)\n",
    "results_df"
   ]
  },
  {
   "cell_type": "code",
   "execution_count": null,
   "metadata": {},
   "outputs": [],
   "source": []
  }
 ],
 "metadata": {
  "kernelspec": {
   "display_name": "Python [conda env:PythonData]",
   "language": "python",
   "name": "conda-env-PythonData-py"
  },
  "language_info": {
   "codemirror_mode": {
    "name": "ipython",
    "version": 3
   },
   "file_extension": ".py",
   "mimetype": "text/x-python",
   "name": "python",
   "nbconvert_exporter": "python",
   "pygments_lexer": "ipython3",
   "version": "3.6.5"
  },
  "varInspector": {
   "cols": {
    "lenName": 16,
    "lenType": 16,
    "lenVar": 40
   },
   "kernels_config": {
    "python": {
     "delete_cmd_postfix": "",
     "delete_cmd_prefix": "del ",
     "library": "var_list.py",
     "varRefreshCmd": "print(var_dic_list())"
    },
    "r": {
     "delete_cmd_postfix": ") ",
     "delete_cmd_prefix": "rm(",
     "library": "var_list.r",
     "varRefreshCmd": "cat(var_dic_list()) "
    }
   },
   "types_to_exclude": [
    "module",
    "function",
    "builtin_function_or_method",
    "instance",
    "_Feature"
   ],
   "window_display": false
  }
 },
 "nbformat": 4,
 "nbformat_minor": 2
}
