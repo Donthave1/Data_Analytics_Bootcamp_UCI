{
 "cells": [
  {
   "cell_type": "code",
   "execution_count": 1,
   "metadata": {},
   "outputs": [],
   "source": [
    "# Import SQL Alchemy\n",
    "from sqlalchemy import create_engine\n",
    "\n",
    "# Import and establish Base for which classes will be constructed \n",
    "from sqlalchemy.ext.declarative import declarative_base\n",
    "Base = declarative_base()\n",
    "\n",
    "# Import modules to declare columns and column data types\n",
    "from sqlalchemy import Column, Integer, String, Float"
   ]
  },
  {
   "cell_type": "code",
   "execution_count": 3,
   "metadata": {
    "deletable": false,
    "nbgrader": {
     "checksum": "8af1cb904695d814b2f78e98ad1e76d6",
     "grade": false,
     "grade_id": "cell-55d75c21dbb2c337",
     "locked": false,
     "schema_version": 1,
     "solution": true
    }
   },
   "outputs": [],
   "source": [
    "# Create the Garbage class\n",
    "class Garbage(Base):\n",
    "    __tablename__ = 'garbage_collection'\n",
    "    id = Column(Integer, primary_key=True)\n",
    "    item = Column(String)\n",
    "    weight = Column(Integer)\n",
    "    collector = Column(String)"
   ]
  },
  {
   "cell_type": "code",
   "execution_count": 4,
   "metadata": {
    "deletable": false,
    "nbgrader": {
     "checksum": "59c29987b266a9c395699d181bb087a6",
     "grade": false,
     "grade_id": "cell-4230ec6995aad3fd",
     "locked": false,
     "schema_version": 1,
     "solution": true
    }
   },
   "outputs": [],
   "source": [
    "# Create a connection to a SQLite database\n",
    "engine = create_engine(\"sqlite:///garbage_collection.sqlite\")"
   ]
  },
  {
   "cell_type": "code",
   "execution_count": 5,
   "metadata": {},
   "outputs": [],
   "source": [
    "# Create the garbage_collection table within the database\n",
    "Base.metadata.create_all(engine)"
   ]
  },
  {
   "cell_type": "code",
   "execution_count": 6,
   "metadata": {},
   "outputs": [],
   "source": [
    "# To push the objects made and query the server we use a Session object\n",
    "from sqlalchemy.orm import Session\n",
    "session = Session(bind=engine)"
   ]
  },
  {
   "cell_type": "code",
   "execution_count": 9,
   "metadata": {
    "deletable": false,
    "nbgrader": {
     "checksum": "eea32595c61b7a5ae6d9d0e22b1d18df",
     "grade": false,
     "grade_id": "cell-544743e14f0f9a25",
     "locked": false,
     "schema_version": 1,
     "solution": true
    }
   },
   "outputs": [],
   "source": [
    "# Create some instances of the Garbage class\n",
    "garbage1 = Garbage(item=\"Sofa\", weight=90.5, collector=\"Jacob\")\n",
    "garbage2 = Garbage(item=\"Broken TV\", weight=10.75, collector=\"Paul\")\n",
    "garbage3 = Garbage(item=\"Burger\", weight=0.55, collector=\"Phil\")"
   ]
  },
  {
   "cell_type": "code",
   "execution_count": 10,
   "metadata": {
    "deletable": false,
    "nbgrader": {
     "checksum": "2e13e07533fce1b94f2693a49958066b",
     "grade": false,
     "grade_id": "cell-7ead20b8cbdbfb73",
     "locked": false,
     "schema_version": 1,
     "solution": true
    }
   },
   "outputs": [],
   "source": [
    "# Add these objects to the session\n",
    "session.add(garbage1)\n",
    "session.add(garbage2)\n",
    "session.add(garbage3)\n",
    "session.commit()"
   ]
  },
  {
   "cell_type": "code",
   "execution_count": 11,
   "metadata": {
    "deletable": false,
    "nbgrader": {
     "checksum": "d4a7717476260b79dd53ffdcee0b352e",
     "grade": false,
     "grade_id": "cell-a66cda367a0b1515",
     "locked": false,
     "schema_version": 1,
     "solution": true
    }
   },
   "outputs": [],
   "source": [
    "# Update two rows of data\n",
    "update1 = session.query(Garbage).filter_by(id=1).first()\n",
    "update1.collector = \"Jacob Deming\"\n",
    "update2 = session.query(Garbage).filter_by(id=2).first()\n",
    "update2.weight = 11.25\n",
    "session.commit()"
   ]
  },
  {
   "cell_type": "code",
   "execution_count": 12,
   "metadata": {
    "deletable": false,
    "nbgrader": {
     "checksum": "fc1a996c75d8d3b91c9f7d1c7a74feee",
     "grade": false,
     "grade_id": "cell-2cee82afd03d3679",
     "locked": false,
     "schema_version": 1,
     "solution": true
    }
   },
   "outputs": [],
   "source": [
    "# Delete the row with the lowest weight\n",
    "session.query(Garbage).filter_by(id=3).delete()\n",
    "session.commit()"
   ]
  },
  {
   "cell_type": "code",
   "execution_count": 13,
   "metadata": {
    "deletable": false,
    "nbgrader": {
     "checksum": "ecc333c6906d189152b758d27e331e36",
     "grade": false,
     "grade_id": "cell-23672c755f55dd5d",
     "locked": false,
     "schema_version": 1,
     "solution": true
    }
   },
   "outputs": [
    {
     "name": "stdout",
     "output_type": "stream",
     "text": [
      "------------\n",
      "ID: 1\n",
      "Item: Old Fridge\n",
      "Weight: 1000\n",
      "Collector: Jacob Deming\n",
      "------------\n",
      "ID: 2\n",
      "Item: Old Fridge\n",
      "Weight: 11.25\n",
      "Collector: Waste Management\n",
      "------------\n",
      "ID: 4\n",
      "Item: Poped tires\n",
      "Weight: 500\n",
      "Collector: Used Car Market\n",
      "------------\n",
      "ID: 5\n",
      "Item: Sofa\n",
      "Weight: 90.5\n",
      "Collector: Jacob\n",
      "------------\n",
      "ID: 6\n",
      "Item: Broken TV\n",
      "Weight: 10.75\n",
      "Collector: Paul\n",
      "------------\n",
      "ID: 7\n",
      "Item: Burger\n",
      "Weight: 0.55\n",
      "Collector: Phil\n"
     ]
    }
   ],
   "source": [
    "# Collect all of the items and print their information\n",
    "items = session.query(Garbage)\n",
    "for item in items:\n",
    "    print(\"-\"*12)\n",
    "    print(f\"ID: {item.id}\")\n",
    "    print(f\"Item: {item.item}\")\n",
    "    print(f\"Weight: {item.weight}\")\n",
    "    print(f\"Collector: {item.collector}\")"
   ]
  },
  {
   "cell_type": "code",
   "execution_count": null,
   "metadata": {},
   "outputs": [],
   "source": []
  }
 ],
 "metadata": {
  "kernelspec": {
   "display_name": "Python [conda env:PythonData]",
   "language": "python",
   "name": "conda-env-PythonData-py"
  },
  "language_info": {
   "codemirror_mode": {
    "name": "ipython",
    "version": 3
   },
   "file_extension": ".py",
   "mimetype": "text/x-python",
   "name": "python",
   "nbconvert_exporter": "python",
   "pygments_lexer": "ipython3",
   "version": "3.6.5"
  },
  "varInspector": {
   "cols": {
    "lenName": 16,
    "lenType": 16,
    "lenVar": 40
   },
   "kernels_config": {
    "python": {
     "delete_cmd_postfix": "",
     "delete_cmd_prefix": "del ",
     "library": "var_list.py",
     "varRefreshCmd": "print(var_dic_list())"
    },
    "r": {
     "delete_cmd_postfix": ") ",
     "delete_cmd_prefix": "rm(",
     "library": "var_list.r",
     "varRefreshCmd": "cat(var_dic_list()) "
    }
   },
   "types_to_exclude": [
    "module",
    "function",
    "builtin_function_or_method",
    "instance",
    "_Feature"
   ],
   "window_display": false
  }
 },
 "nbformat": 4,
 "nbformat_minor": 2
}
