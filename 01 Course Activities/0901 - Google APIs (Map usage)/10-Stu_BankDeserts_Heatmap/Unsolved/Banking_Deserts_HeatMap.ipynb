{
 "cells": [
  {
   "cell_type": "markdown",
   "metadata": {},
   "source": [
    "# Banking and Unemployment\n",
    "---"
   ]
  },
  {
   "cell_type": "code",
   "execution_count": 44,
   "metadata": {},
   "outputs": [],
   "source": [
    "# Dependencies\n",
    "import numpy as np\n",
    "import pandas as pd\n",
    "import matplotlib.pyplot as plt\n",
    "import requests\n",
    "import time\n",
    "from census import Census\n",
    "from us import states\n",
    "import gmaps\n",
    "\n",
    "# census key\n",
    "from config import (census_key, gkey)\n",
    "\n",
    "# Census API Key\n",
    "c = Census(census_key, year=2013)"
   ]
  },
  {
   "cell_type": "markdown",
   "metadata": {},
   "source": [
    "## Data Retrieval"
   ]
  },
  {
   "cell_type": "code",
   "execution_count": 34,
   "metadata": {},
   "outputs": [
    {
     "data": {
      "text/html": [
       "<div>\n",
       "<style scoped>\n",
       "    .dataframe tbody tr th:only-of-type {\n",
       "        vertical-align: middle;\n",
       "    }\n",
       "\n",
       "    .dataframe tbody tr th {\n",
       "        vertical-align: top;\n",
       "    }\n",
       "\n",
       "    .dataframe thead th {\n",
       "        text-align: right;\n",
       "    }\n",
       "</style>\n",
       "<table border=\"1\" class=\"dataframe\">\n",
       "  <thead>\n",
       "    <tr style=\"text-align: right;\">\n",
       "      <th></th>\n",
       "      <th>Population</th>\n",
       "      <th>Unemployment Count</th>\n",
       "      <th>Zipcode</th>\n",
       "      <th>Unemployment Rate</th>\n",
       "    </tr>\n",
       "  </thead>\n",
       "  <tbody>\n",
       "    <tr>\n",
       "      <th>0</th>\n",
       "      <td>18450.0</td>\n",
       "      <td>1464.0</td>\n",
       "      <td>00601</td>\n",
       "      <td>7.934959</td>\n",
       "    </tr>\n",
       "    <tr>\n",
       "      <th>1</th>\n",
       "      <td>41302.0</td>\n",
       "      <td>4767.0</td>\n",
       "      <td>00602</td>\n",
       "      <td>11.541814</td>\n",
       "    </tr>\n",
       "    <tr>\n",
       "      <th>2</th>\n",
       "      <td>53683.0</td>\n",
       "      <td>4341.0</td>\n",
       "      <td>00603</td>\n",
       "      <td>8.086359</td>\n",
       "    </tr>\n",
       "    <tr>\n",
       "      <th>3</th>\n",
       "      <td>6591.0</td>\n",
       "      <td>134.0</td>\n",
       "      <td>00606</td>\n",
       "      <td>2.033075</td>\n",
       "    </tr>\n",
       "    <tr>\n",
       "      <th>4</th>\n",
       "      <td>28963.0</td>\n",
       "      <td>1134.0</td>\n",
       "      <td>00610</td>\n",
       "      <td>3.915340</td>\n",
       "    </tr>\n",
       "  </tbody>\n",
       "</table>\n",
       "</div>"
      ],
      "text/plain": [
       "   Population  Unemployment Count Zipcode  Unemployment Rate\n",
       "0     18450.0              1464.0   00601           7.934959\n",
       "1     41302.0              4767.0   00602          11.541814\n",
       "2     53683.0              4341.0   00603           8.086359\n",
       "3      6591.0               134.0   00606           2.033075\n",
       "4     28963.0              1134.0   00610           3.915340"
      ]
     },
     "execution_count": 34,
     "metadata": {},
     "output_type": "execute_result"
    }
   ],
   "source": [
    "# Run Census Search to retrieve data on all zip codes (2013 ACS5 Census)\n",
    "# See: https://github.com/CommerceDataService/census-wrapper for library documentation\n",
    "# See: https://gist.github.com/afhaque/60558290d6efd892351c4b64e5c01e9b for labels\n",
    "census_data = c.acs5.get((\"B01003_001E\", \"B23025_005E\"), {'for': 'zip code tabulation area:*'})\n",
    "\n",
    "# Convert to DataFrame\n",
    "census_pd = pd.DataFrame(census_data)\n",
    "\n",
    "# Column Reordering\n",
    "census_pd = census_pd.rename(columns={\"B01003_001E\": \"Population\",\n",
    "                                      \"B23025_005E\": \"Unemployment Count\",\n",
    "                                      \"zip code tabulation area\": \"Zipcode\"})\n",
    "\n",
    "# Add in unemployment Rate (Unemployment Count / Population)\n",
    "census_pd[\"Unemployment Rate\"] = census_pd[\"Unemployment Count\"].astype(int) / census_pd[\"Population\"].astype(int) * 100\n",
    "\n",
    "census_pd[[\"Zipcode\", \"Population\", \"Unemployment Rate\"]]\n",
    "# Final DataFrame\n",
    "census_pd.head()\n",
    "\n",
    "# Visualize"
   ]
  },
  {
   "cell_type": "code",
   "execution_count": 41,
   "metadata": {},
   "outputs": [],
   "source": [
    "census_pd[\"Zipcode\"] = census_pd[\"Zipcode\"].astype(int)"
   ]
  },
  {
   "cell_type": "markdown",
   "metadata": {
    "collapsed": true
   },
   "source": [
    "## Combine Data"
   ]
  },
  {
   "cell_type": "code",
   "execution_count": 38,
   "metadata": {
    "scrolled": true
   },
   "outputs": [],
   "source": [
    "# Import the original data we analyzed earlier. Use dtype=\"object\" to match other\n",
    "census_data_original = pd.read_csv(\"../Resources/zip_bank_data.csv\")\n",
    "census_data_original[\"Zipcode\"] = census_data_original[\"Zipcode\"].astype(int)\n",
    "\n",
    "# Visualize"
   ]
  },
  {
   "cell_type": "code",
   "execution_count": 39,
   "metadata": {},
   "outputs": [
    {
     "data": {
      "text/html": [
       "<div>\n",
       "<style scoped>\n",
       "    .dataframe tbody tr th:only-of-type {\n",
       "        vertical-align: middle;\n",
       "    }\n",
       "\n",
       "    .dataframe tbody tr th {\n",
       "        vertical-align: top;\n",
       "    }\n",
       "\n",
       "    .dataframe thead th {\n",
       "        text-align: right;\n",
       "    }\n",
       "</style>\n",
       "<table border=\"1\" class=\"dataframe\">\n",
       "  <thead>\n",
       "    <tr style=\"text-align: right;\">\n",
       "      <th></th>\n",
       "      <th>Zipcode</th>\n",
       "      <th>Address</th>\n",
       "      <th>Population</th>\n",
       "      <th>Median Age</th>\n",
       "      <th>Household Income</th>\n",
       "      <th>Per Capita Income</th>\n",
       "      <th>Poverty Rate</th>\n",
       "      <th>Lat</th>\n",
       "      <th>Lng</th>\n",
       "      <th>Bank Count</th>\n",
       "    </tr>\n",
       "  </thead>\n",
       "  <tbody>\n",
       "    <tr>\n",
       "      <th>0</th>\n",
       "      <td>49058</td>\n",
       "      <td>Hastings, MI 49058, USA</td>\n",
       "      <td>19031</td>\n",
       "      <td>40.8</td>\n",
       "      <td>46777.0</td>\n",
       "      <td>22137</td>\n",
       "      <td>13.183753</td>\n",
       "      <td>42.630692</td>\n",
       "      <td>-85.292938</td>\n",
       "      <td>9</td>\n",
       "    </tr>\n",
       "    <tr>\n",
       "      <th>1</th>\n",
       "      <td>71405</td>\n",
       "      <td>Ball, LA 71405, USA</td>\n",
       "      <td>5687</td>\n",
       "      <td>35.8</td>\n",
       "      <td>55242.0</td>\n",
       "      <td>23941</td>\n",
       "      <td>15.737647</td>\n",
       "      <td>31.406180</td>\n",
       "      <td>-92.396174</td>\n",
       "      <td>12</td>\n",
       "    </tr>\n",
       "    <tr>\n",
       "      <th>2</th>\n",
       "      <td>20634</td>\n",
       "      <td>Great Mills, MD 20634, USA</td>\n",
       "      <td>6562</td>\n",
       "      <td>31.9</td>\n",
       "      <td>79944.0</td>\n",
       "      <td>35961</td>\n",
       "      <td>9.295946</td>\n",
       "      <td>38.220161</td>\n",
       "      <td>-76.496792</td>\n",
       "      <td>9</td>\n",
       "    </tr>\n",
       "    <tr>\n",
       "      <th>3</th>\n",
       "      <td>38487</td>\n",
       "      <td>Williamsport, TN 38487, USA</td>\n",
       "      <td>762</td>\n",
       "      <td>41.6</td>\n",
       "      <td>38125.0</td>\n",
       "      <td>18884</td>\n",
       "      <td>24.409449</td>\n",
       "      <td>35.731037</td>\n",
       "      <td>-87.241930</td>\n",
       "      <td>0</td>\n",
       "    </tr>\n",
       "    <tr>\n",
       "      <th>4</th>\n",
       "      <td>58466</td>\n",
       "      <td>Marion, ND 58466, USA</td>\n",
       "      <td>509</td>\n",
       "      <td>44.5</td>\n",
       "      <td>69844.0</td>\n",
       "      <td>36981</td>\n",
       "      <td>9.430255</td>\n",
       "      <td>46.559422</td>\n",
       "      <td>-98.348154</td>\n",
       "      <td>1</td>\n",
       "    </tr>\n",
       "  </tbody>\n",
       "</table>\n",
       "</div>"
      ],
      "text/plain": [
       "   Zipcode                      Address  Population  Median Age  \\\n",
       "0    49058      Hastings, MI 49058, USA       19031        40.8   \n",
       "1    71405          Ball, LA 71405, USA        5687        35.8   \n",
       "2    20634   Great Mills, MD 20634, USA        6562        31.9   \n",
       "3    38487  Williamsport, TN 38487, USA         762        41.6   \n",
       "4    58466        Marion, ND 58466, USA         509        44.5   \n",
       "\n",
       "   Household Income  Per Capita Income  Poverty Rate        Lat        Lng  \\\n",
       "0           46777.0              22137     13.183753  42.630692 -85.292938   \n",
       "1           55242.0              23941     15.737647  31.406180 -92.396174   \n",
       "2           79944.0              35961      9.295946  38.220161 -76.496792   \n",
       "3           38125.0              18884     24.409449  35.731037 -87.241930   \n",
       "4           69844.0              36981      9.430255  46.559422 -98.348154   \n",
       "\n",
       "   Bank Count  \n",
       "0           9  \n",
       "1          12  \n",
       "2           9  \n",
       "3           0  \n",
       "4           1  "
      ]
     },
     "execution_count": 39,
     "metadata": {},
     "output_type": "execute_result"
    }
   ],
   "source": [
    "census_data_original.head()"
   ]
  },
  {
   "cell_type": "code",
   "execution_count": 42,
   "metadata": {},
   "outputs": [
    {
     "data": {
      "text/html": [
       "<div>\n",
       "<style scoped>\n",
       "    .dataframe tbody tr th:only-of-type {\n",
       "        vertical-align: middle;\n",
       "    }\n",
       "\n",
       "    .dataframe tbody tr th {\n",
       "        vertical-align: top;\n",
       "    }\n",
       "\n",
       "    .dataframe thead th {\n",
       "        text-align: right;\n",
       "    }\n",
       "</style>\n",
       "<table border=\"1\" class=\"dataframe\">\n",
       "  <thead>\n",
       "    <tr style=\"text-align: right;\">\n",
       "      <th></th>\n",
       "      <th>Zipcode</th>\n",
       "      <th>Address</th>\n",
       "      <th>Population_x</th>\n",
       "      <th>Median Age</th>\n",
       "      <th>Household Income</th>\n",
       "      <th>Per Capita Income</th>\n",
       "      <th>Poverty Rate</th>\n",
       "      <th>Lat</th>\n",
       "      <th>Lng</th>\n",
       "      <th>Bank Count</th>\n",
       "      <th>Population_y</th>\n",
       "      <th>Unemployment Count</th>\n",
       "      <th>Unemployment Rate</th>\n",
       "    </tr>\n",
       "  </thead>\n",
       "  <tbody>\n",
       "    <tr>\n",
       "      <th>0</th>\n",
       "      <td>49058</td>\n",
       "      <td>Hastings, MI 49058, USA</td>\n",
       "      <td>19031</td>\n",
       "      <td>40.8</td>\n",
       "      <td>46777.0</td>\n",
       "      <td>22137</td>\n",
       "      <td>13.183753</td>\n",
       "      <td>42.630692</td>\n",
       "      <td>-85.292938</td>\n",
       "      <td>9</td>\n",
       "      <td>19031.0</td>\n",
       "      <td>1011.0</td>\n",
       "      <td>5.312385</td>\n",
       "    </tr>\n",
       "    <tr>\n",
       "      <th>1</th>\n",
       "      <td>71405</td>\n",
       "      <td>Ball, LA 71405, USA</td>\n",
       "      <td>5687</td>\n",
       "      <td>35.8</td>\n",
       "      <td>55242.0</td>\n",
       "      <td>23941</td>\n",
       "      <td>15.737647</td>\n",
       "      <td>31.406180</td>\n",
       "      <td>-92.396174</td>\n",
       "      <td>12</td>\n",
       "      <td>5687.0</td>\n",
       "      <td>260.0</td>\n",
       "      <td>4.571830</td>\n",
       "    </tr>\n",
       "    <tr>\n",
       "      <th>2</th>\n",
       "      <td>20634</td>\n",
       "      <td>Great Mills, MD 20634, USA</td>\n",
       "      <td>6562</td>\n",
       "      <td>31.9</td>\n",
       "      <td>79944.0</td>\n",
       "      <td>35961</td>\n",
       "      <td>9.295946</td>\n",
       "      <td>38.220161</td>\n",
       "      <td>-76.496792</td>\n",
       "      <td>9</td>\n",
       "      <td>6562.0</td>\n",
       "      <td>266.0</td>\n",
       "      <td>4.053642</td>\n",
       "    </tr>\n",
       "    <tr>\n",
       "      <th>3</th>\n",
       "      <td>38487</td>\n",
       "      <td>Williamsport, TN 38487, USA</td>\n",
       "      <td>762</td>\n",
       "      <td>41.6</td>\n",
       "      <td>38125.0</td>\n",
       "      <td>18884</td>\n",
       "      <td>24.409449</td>\n",
       "      <td>35.731037</td>\n",
       "      <td>-87.241930</td>\n",
       "      <td>0</td>\n",
       "      <td>762.0</td>\n",
       "      <td>78.0</td>\n",
       "      <td>10.236220</td>\n",
       "    </tr>\n",
       "    <tr>\n",
       "      <th>4</th>\n",
       "      <td>58466</td>\n",
       "      <td>Marion, ND 58466, USA</td>\n",
       "      <td>509</td>\n",
       "      <td>44.5</td>\n",
       "      <td>69844.0</td>\n",
       "      <td>36981</td>\n",
       "      <td>9.430255</td>\n",
       "      <td>46.559422</td>\n",
       "      <td>-98.348154</td>\n",
       "      <td>1</td>\n",
       "      <td>509.0</td>\n",
       "      <td>6.0</td>\n",
       "      <td>1.178782</td>\n",
       "    </tr>\n",
       "  </tbody>\n",
       "</table>\n",
       "</div>"
      ],
      "text/plain": [
       "   Zipcode                      Address  Population_x  Median Age  \\\n",
       "0    49058      Hastings, MI 49058, USA         19031        40.8   \n",
       "1    71405          Ball, LA 71405, USA          5687        35.8   \n",
       "2    20634   Great Mills, MD 20634, USA          6562        31.9   \n",
       "3    38487  Williamsport, TN 38487, USA           762        41.6   \n",
       "4    58466        Marion, ND 58466, USA           509        44.5   \n",
       "\n",
       "   Household Income  Per Capita Income  Poverty Rate        Lat        Lng  \\\n",
       "0           46777.0              22137     13.183753  42.630692 -85.292938   \n",
       "1           55242.0              23941     15.737647  31.406180 -92.396174   \n",
       "2           79944.0              35961      9.295946  38.220161 -76.496792   \n",
       "3           38125.0              18884     24.409449  35.731037 -87.241930   \n",
       "4           69844.0              36981      9.430255  46.559422 -98.348154   \n",
       "\n",
       "   Bank Count  Population_y  Unemployment Count  Unemployment Rate  \n",
       "0           9       19031.0              1011.0           5.312385  \n",
       "1          12        5687.0               260.0           4.571830  \n",
       "2           9        6562.0               266.0           4.053642  \n",
       "3           0         762.0                78.0          10.236220  \n",
       "4           1         509.0                 6.0           1.178782  "
      ]
     },
     "execution_count": 42,
     "metadata": {},
     "output_type": "execute_result"
    }
   ],
   "source": [
    "# Merge the two data sets along zip code\n",
    "census_complete = pd.merge(census_data_original, census_pd, how=\"left\", on=[\"Zipcode\", \"Zipcode\"])\n",
    "\n",
    "# Save the revised Data Frame as a csv\n",
    "census_complete.to_csv(\"../Resources/bank_data_with_unemployment.csv\", encoding=\"utf-8\", index=False)\n",
    "\n",
    "# Visualize\n",
    "census_complete.head()"
   ]
  },
  {
   "cell_type": "markdown",
   "metadata": {},
   "source": [
    "## Heatmap of poverty rate"
   ]
  },
  {
   "cell_type": "code",
   "execution_count": 45,
   "metadata": {},
   "outputs": [],
   "source": [
    "# Configure gmaps with API key\n",
    "gmaps.configure(api_key = gkey)"
   ]
  },
  {
   "cell_type": "code",
   "execution_count": 46,
   "metadata": {},
   "outputs": [],
   "source": [
    "# Store 'Lat' and 'Lng' into  locations \n",
    "locations = census_complete[[\"Lat\", \"Lng\"]].astype(float)\n",
    "\n",
    "# Convert Poverty Rate to float and store\n",
    "# HINT: be sure to handle NaN values\n",
    "poverty_rate = census_complete[\"Poverty Rate\"].astype(float)"
   ]
  },
  {
   "cell_type": "code",
   "execution_count": 47,
   "metadata": {},
   "outputs": [
    {
     "data": {
      "application/vnd.jupyter.widget-view+json": {
       "model_id": "70bc9d761f0540149dfb8117b2777798",
       "version_major": 2,
       "version_minor": 0
      },
      "text/plain": [
       "Figure(layout=FigureLayout(height='420px'))"
      ]
     },
     "metadata": {},
     "output_type": "display_data"
    }
   ],
   "source": [
    "# Create a poverty Heatmap layer\n",
    "fig = gmaps.figure()\n",
    "heatmap_layer = gmaps.heatmap_layer(locations, weights=poverty_rate, dissipating=False, max_intensity=10, point_radius=1)\n",
    "\n",
    "fig.add_layer(heatmap_layer)\n",
    "fig"
   ]
  },
  {
   "cell_type": "code",
   "execution_count": 48,
   "metadata": {},
   "outputs": [],
   "source": [
    "# Convert bank rate to list\n",
    "bank_rate = census_complete[\"Bank Count\"].tolist()\n"
   ]
  },
  {
   "cell_type": "code",
   "execution_count": 49,
   "metadata": {},
   "outputs": [
    {
     "data": {
      "application/vnd.jupyter.widget-view+json": {
       "model_id": "f7987253721c44949133e79369b481c6",
       "version_major": 2,
       "version_minor": 0
      },
      "text/plain": [
       "Figure(layout=FigureLayout(height='420px'))"
      ]
     },
     "metadata": {},
     "output_type": "display_data"
    }
   ],
   "source": [
    "# Create bank symbol layer\n",
    "bank_layer = gmaps.symbol_layer(\n",
    "    locations,\n",
    "    fill_color=\"rgba(0, 150, 0, 0.4)\",\n",
    "    stroke_color=\"rgba(0, 150, 0, 0.4)\",\n",
    "    scale=2,\n",
    "    info_box_content=[f\"Bank Amount: {bank}\" for bank in bank_rate]\n",
    ")\n",
    "\n",
    "fig = gmaps.figure()\n",
    "fig.add_layer(bank_layer)\n",
    "fig"
   ]
  },
  {
   "cell_type": "code",
   "execution_count": 50,
   "metadata": {},
   "outputs": [
    {
     "data": {
      "application/vnd.jupyter.widget-view+json": {
       "model_id": "c047f818cedd4b338845bf8e342900ed",
       "version_major": 2,
       "version_minor": 0
      },
      "text/plain": [
       "Figure(layout=FigureLayout(height='420px'))"
      ]
     },
     "metadata": {},
     "output_type": "display_data"
    }
   ],
   "source": [
    "# Create a combined map\n",
    "fig = gmaps.figure()\n",
    "fig.add_layer(heatmap_layer)\n",
    "fig.add_layer(bank_layer)\n",
    "fig"
   ]
  },
  {
   "cell_type": "code",
   "execution_count": null,
   "metadata": {},
   "outputs": [],
   "source": []
  }
 ],
 "metadata": {
  "anaconda-cloud": {},
  "kernelspec": {
   "display_name": "Python [default]",
   "language": "python",
   "name": "python3"
  },
  "language_info": {
   "codemirror_mode": {
    "name": "ipython",
    "version": 3
   },
   "file_extension": ".py",
   "mimetype": "text/x-python",
   "name": "python",
   "nbconvert_exporter": "python",
   "pygments_lexer": "ipython3",
   "version": "3.6.5"
  }
 },
 "nbformat": 4,
 "nbformat_minor": 1
}
