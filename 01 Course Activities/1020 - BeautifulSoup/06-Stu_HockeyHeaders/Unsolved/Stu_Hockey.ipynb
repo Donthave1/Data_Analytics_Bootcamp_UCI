{
 "cells": [
  {
   "cell_type": "code",
   "execution_count": 7,
   "metadata": {},
   "outputs": [],
   "source": [
    "# Dependencies\n",
    "from bs4 import BeautifulSoup as bs\n",
    "import requests\n",
    "import pymongo"
   ]
  },
  {
   "cell_type": "code",
   "execution_count": 13,
   "metadata": {},
   "outputs": [],
   "source": [
    "# Initialize PyMongo to work with MongoDBs\n",
    "conn = 'mongodb://localhost:27017'\n",
    "client = pymongo.MongoClient(conn)"
   ]
  },
  {
   "cell_type": "code",
   "execution_count": 14,
   "metadata": {},
   "outputs": [],
   "source": [
    "# Define database and collection\n",
    "db = client.nhl_db\n",
    "collection = db.articles"
   ]
  },
  {
   "cell_type": "code",
   "execution_count": 15,
   "metadata": {},
   "outputs": [],
   "source": [
    "# URL of page to be scraped\n",
    "url = 'https://www.nhl.com/'"
   ]
  },
  {
   "cell_type": "code",
   "execution_count": 18,
   "metadata": {},
   "outputs": [],
   "source": [
    "# Retrieve page with the requests module\n",
    "response = requests.get(url).text"
   ]
  },
  {
   "cell_type": "code",
   "execution_count": 19,
   "metadata": {},
   "outputs": [],
   "source": [
    "# Create BeautifulSoup object; parse with 'lxml'\n",
    "soup = bs(response, 'lxml')"
   ]
  },
  {
   "cell_type": "code",
   "execution_count": 21,
   "metadata": {},
   "outputs": [
    {
     "name": "stdout",
     "output_type": "stream",
     "text": [
      "-----------------\n",
      "Rinne placed on injured reserve by Predators\n",
      "Goalie left game Friday after collision with teammate\n",
      "2018-10-20\n",
      "14:18pm\n",
      "-----------------\n",
      "Fantasy hockey news, lineup, injury tracker\n",
      "Skinner, Pominville moved to Sabres' top line with Eichel; Blue Jackets could get Jones back soon\n",
      "2018-10-20\n",
      "13:45pm\n",
      "-----------------\n",
      "Tootoo retires after 13 NHL seasons\n",
      "Forward played for Predators, Red Wings, Devils, Blackhawks\n",
      "2018-10-19\n",
      "19:25pm\n",
      "-----------------\n",
      "NHL.com player poll: Toughest goalie on breakaway\n",
      "Price, Rinne, Quick among picks for best in 1-on-1\n",
      "2018-10-19\n",
      "00:00am\n",
      "-----------------\n",
      "Projected lineups, starting goalies for today\n",
      "Updates from NHL.com writers, correspondents\n",
      "2018-10-20\n",
      "09:55am\n",
      "-----------------\n",
      "Fantasy team power rankings for 2018-19\n",
      "Galchenyuk's return should boost Coyotes power play; Kinkaid, Palmieri sell-high candidates for Devils\n",
      "2018-10-19\n",
      "18:01pm\n",
      "-----------------\n",
      "Hockey Night in Canada: 5 Storylines\n",
      "Maple Leafs try to get back on track against Blues; Oilers host Predators seeking fourth straight win\n",
      "2018-10-20\n",
      "00:00am\n",
      "-----------------\n",
      "Jones practices, could return to Blue Jackets soon\n",
      "Defenseman sidelined with sprained knee ligament\n",
      "2018-10-19\n",
      "17:07pm\n",
      "-----------------\n",
      "History repeats itself as Connolly leaves another Capitals player hanging\n",
      "Vrana spurned this time around, just as Kuznetsov was last season\n",
      "2018-10-19\n",
      "22:50pm\n",
      "-----------------\n",
      "McDavid says best player in NHL could be anybody; Babcock picks Crosby\n",
      "Oilers center praised by Penguins captain, but Maple Leafs coach claims 'it's not even close'\n",
      "2018-10-18\n",
      "23:39pm\n",
      "-----------------\n",
      "Penguins show pedigree in win against Maple Leafs\n",
      "Malkin, Murray help slow down Matthews, Toronto\n",
      "2018-10-19\n",
      "00:46am\n",
      "-----------------\n",
      "Skipping practice could become increasing trend for goalies\n",
      "Price, Smith among those to cut down to keep from getting overworked\n",
      "2018-10-19\n",
      "00:00am\n",
      "-----------------\n",
      "Pulling goalies earlier getting trendier in NHL\n",
      "MacLean discusses case for giving extra attacker more time on ice\n",
      "2018-10-19\n",
      "14:29pm\n",
      "-----------------\n",
      "Laine blog: Winning Cup realistic for Jets\n",
      "Winnipeg forward discusses goals for 2018-19 season in first entry\n",
      "2018-10-19\n",
      "13:54pm\n",
      "-----------------\n",
      "Foegele emerging as big surprise for Hurricanes\n",
      "Work ethic, tenacity has helped rookie forward earn place in NHL\n",
      "2018-10-19\n",
      "00:00am\n",
      "-----------------\n",
      "NHL Fantasy On Ice podcast debuts\n",
      "First episode available now on NHL.com, iOS, Android apps; new editions on Tuesdays, Fridays\n",
      "2018-10-17\n",
      "14:00pm\n",
      "-----------------\n",
      "Fantasy defenseman top 50 rankings for 2018-19\n",
      "Lindholm passes Fowler, Montour; Provorov has bounce-back appeal for Flyers\n",
      "2018-10-18\n",
      "17:55pm\n",
      "-----------------\n",
      "Fantasy top 200 rankings for 2018-19\n",
      "Matthews, Marchand enter first five; Aho joins elite realm; Palat, Johnson replacements for injured Tkachuk\n",
      "2018-10-19\n",
      "12:45am\n"
     ]
    }
   ],
   "source": [
    "# Retrieve the parent divs for all articles\n",
    "results = soup.find_all('li', class_=\"mixed-feed__item--article\")\n",
    "\n",
    "# Loop through results to retrieve article title, header, and timestamp of article\n",
    "for result in results:\n",
    "    title = result.find('h4', class_='mixed-feed__header').text\n",
    "\n",
    "    lede = result.find('h5', class_='mixed-feed__subheader').text\n",
    "\n",
    "    # The time and date of article publication\n",
    "    date = result.find('time')['datetime']\n",
    "    \n",
    "    # Slice the datetime string for the date\n",
    "    article_date = date[:10]\n",
    "    \n",
    "    # Slice the datetime string for the time\n",
    "    time = date[11:16]\n",
    "    \n",
    "    # Determine whether article was published in AM or PM\n",
    "    if (int(time[:2]) >= 13):\n",
    "        meridiem = 'pm'\n",
    "    else:\n",
    "        meridiem = 'am'\n",
    "\n",
    "    # Concatenate time string\n",
    "    time = time + meridiem\n",
    "    print('-----------------')\n",
    "    print(title)\n",
    "    print(lede)\n",
    "    print(article_date)\n",
    "    print(time)\n",
    "\n",
    "    # Dictionary to be inserted into MongoDB\n",
    "    post = {\n",
    "        'title': title,\n",
    "        'lede': lede,\n",
    "        'date': article_date,\n",
    "        'time_published': time\n",
    "    }\n",
    "    # Insert dictionary into MongoDB as a document\n",
    "    collection.insert_one(post)"
   ]
  },
  {
   "cell_type": "code",
   "execution_count": 22,
   "metadata": {},
   "outputs": [
    {
     "name": "stdout",
     "output_type": "stream",
     "text": [
      "{'_id': ObjectId('5bcb7a2656093b0dbfe0a6b8'), 'title': 'Rinne placed on injured reserve by Predators', 'lede': 'Goalie left game Friday after collision with teammate', 'date': '2018-10-20', 'time_published': '14:18pm'}\n",
      "{'_id': ObjectId('5bcb7a2656093b0dbfe0a6b9'), 'title': 'Fantasy hockey news, lineup, injury tracker', 'lede': \"Skinner, Pominville moved to Sabres' top line with Eichel; Blue Jackets could get Jones back soon\", 'date': '2018-10-20', 'time_published': '13:45pm'}\n",
      "{'_id': ObjectId('5bcb7a2656093b0dbfe0a6ba'), 'title': 'Tootoo retires after 13 NHL seasons', 'lede': 'Forward played for Predators, Red Wings, Devils, Blackhawks', 'date': '2018-10-19', 'time_published': '19:25pm'}\n",
      "{'_id': ObjectId('5bcb7a2656093b0dbfe0a6bb'), 'title': 'NHL.com player poll: Toughest goalie on breakaway', 'lede': 'Price, Rinne, Quick among picks for best in 1-on-1', 'date': '2018-10-19', 'time_published': '00:00am'}\n",
      "{'_id': ObjectId('5bcb7a2656093b0dbfe0a6bc'), 'title': 'Projected lineups, starting goalies for today', 'lede': 'Updates from NHL.com writers, correspondents', 'date': '2018-10-20', 'time_published': '09:55am'}\n",
      "{'_id': ObjectId('5bcb7a2656093b0dbfe0a6bd'), 'title': 'Fantasy team power rankings for 2018-19', 'lede': \"Galchenyuk's return should boost Coyotes power play; Kinkaid, Palmieri sell-high candidates for Devils\", 'date': '2018-10-19', 'time_published': '18:01pm'}\n",
      "{'_id': ObjectId('5bcb7a2656093b0dbfe0a6be'), 'title': 'Hockey Night in Canada: 5 Storylines', 'lede': 'Maple Leafs try to get back on track against Blues; Oilers host Predators seeking fourth straight win', 'date': '2018-10-20', 'time_published': '00:00am'}\n",
      "{'_id': ObjectId('5bcb7a2656093b0dbfe0a6bf'), 'title': 'Jones practices, could return to Blue Jackets soon', 'lede': 'Defenseman sidelined with sprained knee ligament', 'date': '2018-10-19', 'time_published': '17:07pm'}\n",
      "{'_id': ObjectId('5bcb7a2656093b0dbfe0a6c0'), 'title': 'History repeats itself as Connolly leaves another Capitals player hanging', 'lede': 'Vrana spurned this time around, just as Kuznetsov was last season', 'date': '2018-10-19', 'time_published': '22:50pm'}\n",
      "{'_id': ObjectId('5bcb7a2656093b0dbfe0a6c1'), 'title': 'McDavid says best player in NHL could be anybody; Babcock picks Crosby', 'lede': \"Oilers center praised by Penguins captain, but Maple Leafs coach claims 'it's not even close'\", 'date': '2018-10-18', 'time_published': '23:39pm'}\n",
      "{'_id': ObjectId('5bcb7a2656093b0dbfe0a6c2'), 'title': 'Penguins show pedigree in win against Maple Leafs', 'lede': 'Malkin, Murray help slow down Matthews, Toronto', 'date': '2018-10-19', 'time_published': '00:46am'}\n",
      "{'_id': ObjectId('5bcb7a2656093b0dbfe0a6c3'), 'title': 'Skipping practice could become increasing trend for goalies', 'lede': 'Price, Smith among those to cut down to keep from getting overworked', 'date': '2018-10-19', 'time_published': '00:00am'}\n",
      "{'_id': ObjectId('5bcb7a2656093b0dbfe0a6c4'), 'title': 'Pulling goalies earlier getting trendier in NHL', 'lede': 'MacLean discusses case for giving extra attacker more time on ice', 'date': '2018-10-19', 'time_published': '14:29pm'}\n",
      "{'_id': ObjectId('5bcb7a2656093b0dbfe0a6c5'), 'title': 'Laine blog: Winning Cup realistic for Jets', 'lede': 'Winnipeg forward discusses goals for 2018-19 season in first entry', 'date': '2018-10-19', 'time_published': '13:54pm'}\n",
      "{'_id': ObjectId('5bcb7a2656093b0dbfe0a6c6'), 'title': 'Foegele emerging as big surprise for Hurricanes', 'lede': 'Work ethic, tenacity has helped rookie forward earn place in NHL', 'date': '2018-10-19', 'time_published': '00:00am'}\n",
      "{'_id': ObjectId('5bcb7a2656093b0dbfe0a6c7'), 'title': 'NHL Fantasy On Ice podcast debuts', 'lede': 'First episode available now on NHL.com, iOS, Android apps; new editions on Tuesdays, Fridays', 'date': '2018-10-17', 'time_published': '14:00pm'}\n",
      "{'_id': ObjectId('5bcb7a2656093b0dbfe0a6c8'), 'title': 'Fantasy defenseman top 50 rankings for 2018-19', 'lede': 'Lindholm passes Fowler, Montour; Provorov has bounce-back appeal for Flyers', 'date': '2018-10-18', 'time_published': '17:55pm'}\n",
      "{'_id': ObjectId('5bcb7a2656093b0dbfe0a6c9'), 'title': 'Fantasy top 200 rankings for 2018-19', 'lede': 'Matthews, Marchand enter first five; Aho joins elite realm; Palat, Johnson replacements for injured Tkachuk', 'date': '2018-10-19', 'time_published': '12:45am'}\n"
     ]
    }
   ],
   "source": [
    "# Display the MongoDB records created above\n",
    "articles = db.articles.find()\n",
    "for article in articles:\n",
    "    print(article)"
   ]
  },
  {
   "cell_type": "code",
   "execution_count": null,
   "metadata": {},
   "outputs": [],
   "source": [
    " "
   ]
  }
 ],
 "metadata": {
  "kernelspec": {
   "display_name": "Python [conda env:PythonData]",
   "language": "python",
   "name": "conda-env-PythonData-py"
  },
  "language_info": {
   "codemirror_mode": {
    "name": "ipython",
    "version": 3
   },
   "file_extension": ".py",
   "mimetype": "text/x-python",
   "name": "python",
   "nbconvert_exporter": "python",
   "pygments_lexer": "ipython3",
   "version": "3.6.5"
  },
  "varInspector": {
   "cols": {
    "lenName": 16,
    "lenType": 16,
    "lenVar": 40
   },
   "kernels_config": {
    "python": {
     "delete_cmd_postfix": "",
     "delete_cmd_prefix": "del ",
     "library": "var_list.py",
     "varRefreshCmd": "print(var_dic_list())"
    },
    "r": {
     "delete_cmd_postfix": ") ",
     "delete_cmd_prefix": "rm(",
     "library": "var_list.r",
     "varRefreshCmd": "cat(var_dic_list()) "
    }
   },
   "types_to_exclude": [
    "module",
    "function",
    "builtin_function_or_method",
    "instance",
    "_Feature"
   ],
   "window_display": false
  }
 },
 "nbformat": 4,
 "nbformat_minor": 2
}
