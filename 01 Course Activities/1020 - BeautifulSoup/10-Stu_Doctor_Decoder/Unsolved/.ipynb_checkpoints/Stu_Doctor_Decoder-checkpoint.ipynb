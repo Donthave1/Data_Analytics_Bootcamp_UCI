{
 "cells": [
  {
   "cell_type": "markdown",
   "metadata": {
    "deletable": false,
    "editable": false,
    "nbgrader": {
     "checksum": "80deef871f3dd9885af08c6806d209e7",
     "grade": false,
     "grade_id": "cell-dd2ddeba9033880b",
     "locked": true,
     "schema_version": 1,
     "solution": false
    },
    "slideshow": {
     "slide_type": "slide"
    }
   },
   "source": [
    "# Doctor Decoder\n",
    "\n",
    "Use Pandas scraping to help decode the medical abbreviations that a doctor might use."
   ]
  },
  {
   "cell_type": "code",
   "execution_count": 1,
   "metadata": {
    "deletable": false,
    "editable": false,
    "nbgrader": {
     "checksum": "80494e593aea05796f290c7a6a12b613",
     "grade": false,
     "grade_id": "cell-6c50ad7ad28aba2e",
     "locked": true,
     "schema_version": 1,
     "solution": false
    },
    "slideshow": {
     "slide_type": "slide"
    }
   },
   "outputs": [],
   "source": [
    "import pandas as pd"
   ]
  },
  {
   "cell_type": "markdown",
   "metadata": {
    "deletable": false,
    "editable": false,
    "nbgrader": {
     "checksum": "269bf4982930f5d7043b0551d640e23f",
     "grade": false,
     "grade_id": "cell-cb7d2e5f8ff89b71",
     "locked": true,
     "schema_version": 1,
     "solution": false
    }
   },
   "source": [
    "Use Pandas to scrape the following site and decode the medical abbreviations in the list"
   ]
  },
  {
   "cell_type": "code",
   "execution_count": 2,
   "metadata": {
    "deletable": false,
    "editable": false,
    "nbgrader": {
     "checksum": "a5c7c51eb9a3c045985f064031976fdf",
     "grade": false,
     "grade_id": "cell-f4f4e6cacd73a092",
     "locked": true,
     "schema_version": 1,
     "solution": false
    },
    "slideshow": {
     "slide_type": "fragment"
    }
   },
   "outputs": [],
   "source": [
    "url = 'https://en.wikipedia.org/wiki/List_of_medical_abbreviations'\n",
    "med_abbreviations = ['BMR', 'BP', 'ECG', 'MRI', 'qid', 'WBC']"
   ]
  },
  {
   "cell_type": "code",
   "execution_count": 13,
   "metadata": {
    "deletable": false,
    "nbgrader": {
     "checksum": "61b3b006177ac9242698f1ffacfd23b5",
     "grade": false,
     "grade_id": "cell-a71ede958957992c",
     "locked": false,
     "schema_version": 1,
     "solution": true
    },
    "slideshow": {
     "slide_type": "fragment"
    }
   },
   "outputs": [
    {
     "data": {
      "text/plain": [
       "[    0                                                  1\n",
       " 0 NaN  This article includes a list of references, re...,\n",
       "                                                    0\n",
       " 0                           vteMedical abbreviations\n",
       " 1  0–9 A B C D E F G H I J K L M N O P Q R S T U ...\n",
       " 2  Latin abbreviations Prescription abbreviations...,\n",
       "           0                                       1  \\\n",
       " 0    EG abb                            EG full name   \n",
       " 1       ABG                      arterial blood gas   \n",
       " 2       ACE           angiotensin-converting enzyme   \n",
       " 3      ACTH             adrenocorticotropic hormone   \n",
       " 4       ADH                    antidiuretic hormone   \n",
       " 5       AED        automated external defibrillator   \n",
       " 6      AIDS      acquired immunodeficiency syndrome   \n",
       " 7       ALP                    alkaline phosphatase   \n",
       " 8       ALT                alanine aminotransferase   \n",
       " 9       ASA                    acetylsalicylic acid   \n",
       " 10      AST              aspartate aminotransferase   \n",
       " 11      ATP                  adenosine triphosphate   \n",
       " 12      BCG                 bacille Calmette-Guérin   \n",
       " 13      bid                           2 times a day   \n",
       " 14      BLS                      basic life support   \n",
       " 15      BMR                    basal metabolic rate   \n",
       " 16       BP                          blood pressure   \n",
       " 17      BSA                       body surface area   \n",
       " 18      BUN                     blood urea nitrogen   \n",
       " 19       BR                          bedside rounds   \n",
       " 20      BPD         borderline personality disorder   \n",
       " 21        C         Celsius; centigrade; complement   \n",
       " 22       Ca                                 calcium   \n",
       " 23     cAMP          cyclic adenosine monophosphate   \n",
       " 24      CBC                    complete blood count   \n",
       " 25      cGy                               centigray   \n",
       " 26       Ci                                   curie   \n",
       " 27       CK                         creatine kinase   \n",
       " 28       Cl                      chloride; chlorine   \n",
       " 29       cm                              centimeter   \n",
       " ..      ...                                     ...   \n",
       " 146     SBE         subacute bacterial endocarditis   \n",
       " 147      sc                        subcutaneous(ly)   \n",
       " 148      SI           International System of Units   \n",
       " 149    SIDS            sudden infant death syndrome   \n",
       " 150     SLE            systemic lupus erythematosus   \n",
       " 151    soln                                solution   \n",
       " 152      sp                                 species   \n",
       " 153     spp                                 species   \n",
       " 154   sp gr                        specific gravity   \n",
       " 155      sq                                  square   \n",
       " 156    SSRI  selective serotonin reuptake inhibitor   \n",
       " 157     STS          serologic test(s) for syphilis   \n",
       " 158     T&A         tonsillectomy and adenoidectomy   \n",
       " 159      TB                            tuberculosis   \n",
       " 160    TIBC             total iron-binding capacity   \n",
       " 161     tid                           3 times a day   \n",
       " 162     TPN              total parenteral nutrition   \n",
       " 163     URI             upper respiratory infection   \n",
       " 164     UTI                 urinary tract infection   \n",
       " 165     WBC                        white blood cell   \n",
       " 166     WHO               World Health Organization   \n",
       " 167      wt                                  weight   \n",
       " 168       μ                          micro-; micron   \n",
       " 169     μCi                              microcurie   \n",
       " 170      μg                               microgram   \n",
       " 171      μL                              microliter   \n",
       " 172      μm                              micrometer   \n",
       " 173    μmol                               micromole   \n",
       " 174    μOsm                            micro-osmole   \n",
       " 175      mμ                             millimicron   \n",
       " \n",
       "                                           2  \n",
       " 0    Other(ver change, need to know...etc.)  \n",
       " 1                                       NaN  \n",
       " 2                                       NaN  \n",
       " 3                                       NaN  \n",
       " 4                                       NaN  \n",
       " 5                                       NaN  \n",
       " 6                                       NaN  \n",
       " 7                                       NaN  \n",
       " 8                       old version is SGPT  \n",
       " 9                                   aspirin  \n",
       " 10                      old version is SGOT  \n",
       " 11                                      NaN  \n",
       " 12                                      NaN  \n",
       " 13                                      NaN  \n",
       " 14                                      NaN  \n",
       " 15                                      NaN  \n",
       " 16                                      NaN  \n",
       " 17                                      NaN  \n",
       " 18                                      NaN  \n",
       " 19                                      NaN  \n",
       " 20                                      NaN  \n",
       " 21                                      NaN  \n",
       " 22                                      NaN  \n",
       " 23                                      NaN  \n",
       " 24                                      NaN  \n",
       " 25                                      NaN  \n",
       " 26                                      NaN  \n",
       " 27                                      NaN  \n",
       " 28                                      NaN  \n",
       " 29                                      NaN  \n",
       " ..                                      ...  \n",
       " 146                                     NaN  \n",
       " 147                                     NaN  \n",
       " 148                                     NaN  \n",
       " 149                                     NaN  \n",
       " 150                                     NaN  \n",
       " 151                                     NaN  \n",
       " 152                                singular  \n",
       " 153                                  plural  \n",
       " 154                                     NaN  \n",
       " 155                                     NaN  \n",
       " 156                                     NaN  \n",
       " 157                                     NaN  \n",
       " 158                                     NaN  \n",
       " 159                                     NaN  \n",
       " 160                                     NaN  \n",
       " 161                                     NaN  \n",
       " 162                                     NaN  \n",
       " 163                                     NaN  \n",
       " 164                                     NaN  \n",
       " 165                                     NaN  \n",
       " 166                                     NaN  \n",
       " 167                                     NaN  \n",
       " 168                                     NaN  \n",
       " 169                                     NaN  \n",
       " 170                                     NaN  \n",
       " 171                                     NaN  \n",
       " 172                        also name micron  \n",
       " 173                                     NaN  \n",
       " 174                                     NaN  \n",
       " 175                     also name nanometer  \n",
       " \n",
       " [176 rows x 3 columns],\n",
       "                                                    0\n",
       " 0                           vteMedical abbreviations\n",
       " 1  0–9 A B C D E F G H I J K L M N O P Q R S T U ...\n",
       " 2  Latin abbreviations Prescription abbreviations...,\n",
       "                                                    0  \\\n",
       " 0  vteBasic medical terms used to describe diseas...   \n",
       " 1  Medical signSymptomSyndrome Medical diagnosisD...   \n",
       " 2                                                NaN   \n",
       " 3                                                NaN   \n",
       " \n",
       "                              1  \\\n",
       " 0                          NaN   \n",
       " 1                          NaN   \n",
       " 2  Medical signSymptomSyndrome   \n",
       " 3  Medical signSymptomSyndrome   \n",
       " \n",
       "                                                   2  \\\n",
       " 0                                               NaN   \n",
       " 1                       Medical signSymptomSyndrome   \n",
       " 2  Medical diagnosisDifferential diagnosisPrognosis   \n",
       " 3  Medical diagnosisDifferential diagnosisPrognosis   \n",
       " \n",
       "                                                   3  \\\n",
       " 0                                               NaN   \n",
       " 1  Medical diagnosisDifferential diagnosisPrognosis   \n",
       " 2                        AcuteChronicCure/Remission   \n",
       " 3                        AcuteChronicCure/Remission   \n",
       " \n",
       "                                                  4  \\\n",
       " 0                                              NaN   \n",
       " 1                       AcuteChronicCure/Remission   \n",
       " 2  DiseaseEponymous diseaseAcronym or abbreviation   \n",
       " 3  DiseaseEponymous diseaseAcronym or abbreviation   \n",
       " \n",
       "                                                  5  \n",
       " 0                                              NaN  \n",
       " 1  DiseaseEponymous diseaseAcronym or abbreviation  \n",
       " 2                                              NaN  \n",
       " 3                                              NaN  ,\n",
       "     0                            1  \\\n",
       " 0 NaN  Medical signSymptomSyndrome   \n",
       " \n",
       "                                                   2  \\\n",
       " 0  Medical diagnosisDifferential diagnosisPrognosis   \n",
       " \n",
       "                             3                                                4  \n",
       " 0  AcuteChronicCure/Remission  DiseaseEponymous diseaseAcronym or abbreviation  ]"
      ]
     },
     "execution_count": 13,
     "metadata": {},
     "output_type": "execute_result"
    }
   ],
   "source": [
    "# Use Panda's `read_html` to parse the url\n",
    "tables = pd.read_html(url)\n",
    "tables"
   ]
  },
  {
   "cell_type": "code",
   "execution_count": 14,
   "metadata": {
    "deletable": false,
    "nbgrader": {
     "checksum": "47c040e92f3f18a76bb024054b967f44",
     "grade": false,
     "grade_id": "cell-316da8cb3354a1e2",
     "locked": false,
     "schema_version": 1,
     "solution": true
    },
    "slideshow": {
     "slide_type": "fragment"
    }
   },
   "outputs": [
    {
     "data": {
      "text/html": [
       "<div>\n",
       "<style scoped>\n",
       "    .dataframe tbody tr th:only-of-type {\n",
       "        vertical-align: middle;\n",
       "    }\n",
       "\n",
       "    .dataframe tbody tr th {\n",
       "        vertical-align: top;\n",
       "    }\n",
       "\n",
       "    .dataframe thead th {\n",
       "        text-align: right;\n",
       "    }\n",
       "</style>\n",
       "<table border=\"1\" class=\"dataframe\">\n",
       "  <thead>\n",
       "    <tr style=\"text-align: right;\">\n",
       "      <th></th>\n",
       "      <th>abb</th>\n",
       "      <th>full_name</th>\n",
       "      <th>other</th>\n",
       "    </tr>\n",
       "  </thead>\n",
       "  <tbody>\n",
       "    <tr>\n",
       "      <th>0</th>\n",
       "      <td>EG abb</td>\n",
       "      <td>EG full name</td>\n",
       "      <td>Other(ver change, need to know...etc.)</td>\n",
       "    </tr>\n",
       "    <tr>\n",
       "      <th>1</th>\n",
       "      <td>ABG</td>\n",
       "      <td>arterial blood gas</td>\n",
       "      <td>NaN</td>\n",
       "    </tr>\n",
       "    <tr>\n",
       "      <th>2</th>\n",
       "      <td>ACE</td>\n",
       "      <td>angiotensin-converting enzyme</td>\n",
       "      <td>NaN</td>\n",
       "    </tr>\n",
       "    <tr>\n",
       "      <th>3</th>\n",
       "      <td>ACTH</td>\n",
       "      <td>adrenocorticotropic hormone</td>\n",
       "      <td>NaN</td>\n",
       "    </tr>\n",
       "    <tr>\n",
       "      <th>4</th>\n",
       "      <td>ADH</td>\n",
       "      <td>antidiuretic hormone</td>\n",
       "      <td>NaN</td>\n",
       "    </tr>\n",
       "  </tbody>\n",
       "</table>\n",
       "</div>"
      ],
      "text/plain": [
       "      abb                      full_name  \\\n",
       "0  EG abb                   EG full name   \n",
       "1     ABG             arterial blood gas   \n",
       "2     ACE  angiotensin-converting enzyme   \n",
       "3    ACTH    adrenocorticotropic hormone   \n",
       "4     ADH           antidiuretic hormone   \n",
       "\n",
       "                                    other  \n",
       "0  Other(ver change, need to know...etc.)  \n",
       "1                                     NaN  \n",
       "2                                     NaN  \n",
       "3                                     NaN  \n",
       "4                                     NaN  "
      ]
     },
     "execution_count": 14,
     "metadata": {},
     "output_type": "execute_result"
    }
   ],
   "source": [
    "# Find the medical abbreviations DataFrame in the list of DataFrames as assign it to `df`\n",
    "# Assign the columns `['abb', 'full_name', 'other']`\n",
    "df = tables[2]\n",
    "df.columns = ['abb', 'full_name', 'other']\n",
    "df.head()"
   ]
  },
  {
   "cell_type": "markdown",
   "metadata": {
    "deletable": false,
    "editable": false,
    "nbgrader": {
     "checksum": "6b0c3ac2d9beb595fbe40a6ed6f0caf8",
     "grade": false,
     "grade_id": "cell-20d93171b74375bb",
     "locked": true,
     "schema_version": 1,
     "solution": false
    },
    "slideshow": {
     "slide_type": "subslide"
    }
   },
   "source": [
    "Cleanup of extra row"
   ]
  },
  {
   "cell_type": "code",
   "execution_count": 15,
   "metadata": {
    "deletable": false,
    "nbgrader": {
     "checksum": "99dc744627d5133d4bb8a1636f19c738",
     "grade": false,
     "grade_id": "cell-cde33910996decbd",
     "locked": false,
     "schema_version": 1,
     "solution": true
    }
   },
   "outputs": [],
   "source": [
    "# drop the `other` column\n",
    "del df['other']"
   ]
  },
  {
   "cell_type": "code",
   "execution_count": 16,
   "metadata": {
    "deletable": false,
    "nbgrader": {
     "checksum": "663c0bc4bb208a815c81b13fae7821b0",
     "grade": false,
     "grade_id": "cell-1df09a2e03a3b973",
     "locked": false,
     "schema_version": 1,
     "solution": true
    },
    "slideshow": {
     "slide_type": "fragment"
    }
   },
   "outputs": [
    {
     "data": {
      "text/html": [
       "<div>\n",
       "<style scoped>\n",
       "    .dataframe tbody tr th:only-of-type {\n",
       "        vertical-align: middle;\n",
       "    }\n",
       "\n",
       "    .dataframe tbody tr th {\n",
       "        vertical-align: top;\n",
       "    }\n",
       "\n",
       "    .dataframe thead th {\n",
       "        text-align: right;\n",
       "    }\n",
       "</style>\n",
       "<table border=\"1\" class=\"dataframe\">\n",
       "  <thead>\n",
       "    <tr style=\"text-align: right;\">\n",
       "      <th></th>\n",
       "      <th>full_name</th>\n",
       "    </tr>\n",
       "    <tr>\n",
       "      <th>abb</th>\n",
       "      <th></th>\n",
       "    </tr>\n",
       "  </thead>\n",
       "  <tbody>\n",
       "    <tr>\n",
       "      <th>ABG</th>\n",
       "      <td>arterial blood gas</td>\n",
       "    </tr>\n",
       "    <tr>\n",
       "      <th>ACE</th>\n",
       "      <td>angiotensin-converting enzyme</td>\n",
       "    </tr>\n",
       "    <tr>\n",
       "      <th>ACTH</th>\n",
       "      <td>adrenocorticotropic hormone</td>\n",
       "    </tr>\n",
       "    <tr>\n",
       "      <th>ADH</th>\n",
       "      <td>antidiuretic hormone</td>\n",
       "    </tr>\n",
       "    <tr>\n",
       "      <th>AED</th>\n",
       "      <td>automated external defibrillator</td>\n",
       "    </tr>\n",
       "  </tbody>\n",
       "</table>\n",
       "</div>"
      ],
      "text/plain": [
       "                             full_name\n",
       "abb                                   \n",
       "ABG                 arterial blood gas\n",
       "ACE      angiotensin-converting enzyme\n",
       "ACTH       adrenocorticotropic hormone\n",
       "ADH               antidiuretic hormone\n",
       "AED   automated external defibrillator"
      ]
     },
     "execution_count": 16,
     "metadata": {},
     "output_type": "execute_result"
    }
   ],
   "source": [
    "# Drop the first row and set the index to the `abb` column\n",
    "df = df.iloc[1:]\n",
    "df.set_index('abb', inplace=True)\n",
    "df.head()"
   ]
  },
  {
   "cell_type": "code",
   "execution_count": 17,
   "metadata": {
    "deletable": false,
    "nbgrader": {
     "checksum": "4002e5e60e1810a494081a36e7aa9060",
     "grade": false,
     "grade_id": "cell-3e6a547da7c5f934",
     "locked": false,
     "schema_version": 1,
     "solution": true
    }
   },
   "outputs": [
    {
     "name": "stdout",
     "output_type": "stream",
     "text": [
      "BMR basal metabolic rate\n",
      "BP blood pressure\n",
      "ECG electrocardiogram\n",
      "MRI magnetic resonance imaging\n",
      "qid 4 times a day\n",
      "WBC white blood cell\n"
     ]
    }
   ],
   "source": [
    "# Loop through the list of medical abbreviations and print the abbreviation\n",
    "# along with the full description.\n",
    "# Use the DataFrame to perform the lookup.\n",
    "for abb in med_abbreviations:\n",
    "    print(abb, df.loc[abb].full_name)"
   ]
  },
  {
   "cell_type": "code",
   "execution_count": null,
   "metadata": {},
   "outputs": [],
   "source": []
  }
 ],
 "metadata": {
  "kernelspec": {
   "display_name": "Python [conda env:PythonData]",
   "language": "python",
   "name": "conda-env-PythonData-py"
  },
  "language_info": {
   "codemirror_mode": {
    "name": "ipython",
    "version": 3
   },
   "file_extension": ".py",
   "mimetype": "text/x-python",
   "name": "python",
   "nbconvert_exporter": "python",
   "pygments_lexer": "ipython3",
   "version": "3.6.5"
  }
 },
 "nbformat": 4,
 "nbformat_minor": 2
}
