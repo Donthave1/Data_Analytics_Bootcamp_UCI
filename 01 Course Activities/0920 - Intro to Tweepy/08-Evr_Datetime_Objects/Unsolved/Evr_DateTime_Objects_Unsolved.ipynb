{
 "cells": [
  {
   "cell_type": "code",
   "execution_count": 1,
   "metadata": {},
   "outputs": [],
   "source": [
    "# New Dependency\n",
    "from datetime import datetime"
   ]
  },
  {
   "cell_type": "code",
   "execution_count": 2,
   "metadata": {},
   "outputs": [],
   "source": [
    "# Dependencies\n",
    "import tweepy\n",
    "import json\n",
    "import numpy as np\n",
    "import matplotlib.pyplot as plt\n",
    "from config import consumer_key, consumer_secret, access_token, access_token_secret\n",
    "\n",
    "# Setup Tweepy API Authentication\n",
    "auth = tweepy.OAuthHandler(consumer_key, consumer_secret)\n",
    "auth.set_access_token(access_token, access_token_secret)\n",
    "api = tweepy.API(auth, parser=tweepy.parsers.JSONParser())"
   ]
  },
  {
   "cell_type": "code",
   "execution_count": 3,
   "metadata": {},
   "outputs": [
    {
     "name": "stdout",
     "output_type": "stream",
     "text": [
      "Fri Sep 21 02:39:12 +0000 2018\n",
      "Fri Sep 21 02:35:05 +0000 2018\n",
      "Fri Sep 21 02:33:37 +0000 2018\n",
      "Fri Sep 21 02:20:05 +0000 2018\n",
      "Fri Sep 21 02:14:33 +0000 2018\n",
      "Fri Sep 21 02:05:02 +0000 2018\n",
      "Fri Sep 21 01:50:04 +0000 2018\n",
      "Fri Sep 21 01:35:02 +0000 2018\n",
      "Fri Sep 21 01:05:05 +0000 2018\n",
      "Fri Sep 21 00:52:37 +0000 2018\n",
      "Fri Sep 21 00:35:03 +0000 2018\n",
      "Fri Sep 21 00:05:04 +0000 2018\n",
      "Thu Sep 20 23:35:04 +0000 2018\n",
      "Thu Sep 20 23:32:29 +0000 2018\n",
      "Thu Sep 20 23:05:07 +0000 2018\n",
      "Thu Sep 20 22:35:04 +0000 2018\n",
      "Thu Sep 20 22:11:33 +0000 2018\n",
      "Thu Sep 20 22:05:09 +0000 2018\n",
      "Thu Sep 20 21:44:52 +0000 2018\n",
      "Thu Sep 20 21:35:41 +0000 2018\n"
     ]
    }
   ],
   "source": [
    "# Target User\n",
    "target_user = 'latimes'\n",
    "\n",
    "# Get all tweets from home feed\n",
    "public_tweets = api.user_timeline(target_user)\n",
    "\n",
    "# A list to hold tweet timestamps\n",
    "tweet_times = []\n",
    "\n",
    "# Loop through all tweets\n",
    "for tweet in public_tweets:\n",
    "    raw_time = tweet[\"created_at\"]\n",
    "    print(raw_time)\n",
    "    tweet_times.append(raw_time)"
   ]
  },
  {
   "cell_type": "code",
   "execution_count": 4,
   "metadata": {},
   "outputs": [],
   "source": [
    "# Convert tweet timestamps to datetime objects that can be manipulated by\n",
    "# Python\n",
    "converted_timestamps = []\n",
    "for raw_time in tweet_times:\n",
    "    # https://docs.python.org/3/library/datetime.html#strftime-and-strptime-behavior\n",
    "    # http://strftime.org/\n",
    "    converted_time = datetime.strptime(raw_time, \"%a %b %d %H:%M:%S %z %Y\")\n",
    "    converted_timestamps.append(converted_time)"
   ]
  },
  {
   "cell_type": "code",
   "execution_count": 5,
   "metadata": {},
   "outputs": [
    {
     "name": "stdout",
     "output_type": "stream",
     "text": [
      "Fri Sep 21 02:39:12 +0000 2018\n",
      "Fri Sep 21 02:35:05 +0000 2018\n"
     ]
    }
   ],
   "source": [
    "print(tweet_times[0])\n",
    "print(tweet_times[1])"
   ]
  },
  {
   "cell_type": "code",
   "execution_count": 6,
   "metadata": {},
   "outputs": [
    {
     "name": "stdout",
     "output_type": "stream",
     "text": [
      "2018-09-21 02:39:12+00:00\n",
      "2018-09-21 02:35:05+00:00\n"
     ]
    }
   ],
   "source": [
    "print(converted_timestamps[0])\n",
    "print(converted_timestamps[1])"
   ]
  },
  {
   "cell_type": "code",
   "execution_count": 7,
   "metadata": {},
   "outputs": [
    {
     "name": "stdout",
     "output_type": "stream",
     "text": [
      "Time difference: 0:04:07\n",
      "seconds: 247\n"
     ]
    }
   ],
   "source": [
    "# Calculate the time difference in seconds\n",
    "diff = converted_timestamps[0] - converted_timestamps[1]\n",
    "print(f\"Time difference: {diff}\")\n",
    "print(\"seconds: {}\".format(diff.seconds))"
   ]
  },
  {
   "cell_type": "code",
   "execution_count": 8,
   "metadata": {},
   "outputs": [
    {
     "name": "stdout",
     "output_type": "stream",
     "text": [
      "length of converted timestamps list: 20\n",
      "Avg. Hours Between Tweets: 0.2662426900584795\n"
     ]
    }
   ],
   "source": [
    "converted_length = len(converted_timestamps)\n",
    "print(f\"length of converted timestamps list: {converted_length}\")\n",
    "\n",
    "time_diffs = []\n",
    "\n",
    "for x in range(converted_length - 1):\n",
    "    time_diff = converted_timestamps[x] - converted_timestamps[x + 1]\n",
    "    time_diff = time_diff.seconds / 3600\n",
    "    time_diffs.append(time_diff)\n",
    "    \n",
    "print(f\"Avg. Hours Between Tweets: {np.mean(time_diffs)}\")"
   ]
  },
  {
   "cell_type": "code",
   "execution_count": null,
   "metadata": {},
   "outputs": [],
   "source": []
  }
 ],
 "metadata": {
  "kernelspec": {
   "display_name": "Python [conda env:PythonData]",
   "language": "python",
   "name": "conda-env-PythonData-py"
  },
  "language_info": {
   "codemirror_mode": {
    "name": "ipython",
    "version": 3
   },
   "file_extension": ".py",
   "mimetype": "text/x-python",
   "name": "python",
   "nbconvert_exporter": "python",
   "pygments_lexer": "ipython3",
   "version": "3.6.5"
  },
  "varInspector": {
   "cols": {
    "lenName": 16,
    "lenType": 16,
    "lenVar": 40
   },
   "kernels_config": {
    "python": {
     "delete_cmd_postfix": "",
     "delete_cmd_prefix": "del ",
     "library": "var_list.py",
     "varRefreshCmd": "print(var_dic_list())"
    },
    "r": {
     "delete_cmd_postfix": ") ",
     "delete_cmd_prefix": "rm(",
     "library": "var_list.r",
     "varRefreshCmd": "cat(var_dic_list()) "
    }
   },
   "types_to_exclude": [
    "module",
    "function",
    "builtin_function_or_method",
    "instance",
    "_Feature"
   ],
   "window_display": false
  }
 },
 "nbformat": 4,
 "nbformat_minor": 2
}
