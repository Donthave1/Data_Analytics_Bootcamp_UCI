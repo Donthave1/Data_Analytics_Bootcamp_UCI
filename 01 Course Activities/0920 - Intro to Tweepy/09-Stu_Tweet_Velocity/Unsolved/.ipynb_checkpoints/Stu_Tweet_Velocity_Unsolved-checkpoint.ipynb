{
 "cells": [
  {
   "cell_type": "code",
   "execution_count": 1,
   "metadata": {},
   "outputs": [],
   "source": [
    "# Dependencies\n",
    "import tweepy\n",
    "import json\n",
    "import numpy as np\n",
    "from datetime import datetime\n",
    "import matplotlib.pyplot as plt\n",
    "from config import consumer_key, consumer_secret, access_token, access_token_secret\n",
    "\n",
    "\n",
    "# Setup Tweepy API Authentication\n",
    "auth = tweepy.OAuthHandler(consumer_key, consumer_secret)\n",
    "auth.set_access_token(access_token, access_token_secret)\n",
    "api = tweepy.API(auth, parser=tweepy.parsers.JSONParser())"
   ]
  },
  {
   "cell_type": "code",
   "execution_count": 2,
   "metadata": {},
   "outputs": [
    {
     "data": {
      "text/plain": [
       "500"
      ]
     },
     "execution_count": 2,
     "metadata": {},
     "output_type": "execute_result"
    }
   ],
   "source": [
    "# Target User\n",
    "target_user = \"realdonaldtrump\"\n",
    "\n",
    "# Create array to record all date-times of tweets\n",
    "tweet_times = []\n",
    "\n",
    "# Loop through 500 tweets\n",
    "for x in range(1, 26):\n",
    "    \n",
    "    # Get all tweets from target user\n",
    "    public_tweets = api.user_timeline(target_user, page=x)\n",
    "\n",
    "    # Loop through all tweets\n",
    "    for tweet in public_tweets:\n",
    "        tweet_times.append(tweet[\"created_at\"])\n",
    "# Confirm tweet counts\n",
    "len(tweet_times)"
   ]
  },
  {
   "cell_type": "code",
   "execution_count": 5,
   "metadata": {
    "scrolled": false
   },
   "outputs": [
    {
     "name": "stdout",
     "output_type": "stream",
     "text": [
      "Fri Sep 21 04:05:52 +0000 2018\n",
      "2018-09-21 04:05:52+00:00\n",
      "Fri Sep 14 13:29:32 +0000 2018\n",
      "2018-09-14 13:29:32+00:00\n",
      "Sat Sep 08 21:08:41 +0000 2018\n",
      "2018-09-08 21:08:41+00:00\n",
      "Thu Aug 30 13:49:51 +0000 2018\n",
      "2018-08-30 13:49:51+00:00\n",
      "Thu Aug 23 00:51:38 +0000 2018\n",
      "2018-08-23 00:51:38+00:00\n"
     ]
    }
   ],
   "source": [
    "# Convert all tweet times into datetime objects\n",
    "tweet_time_objects = []\n",
    "\n",
    "# Add each datetime object into the array\n",
    "for x in range(len(tweet_times)):\n",
    "    tweet_datetime = datetime.strptime(tweet_times[x], \"%a %b %d %H:%M:%S %z %Y\")\n",
    "    tweet_time_objects.append(tweet_datetime)\n",
    "\n",
    "    # Preview that datetimes are matching\n",
    "    if x % 100 == 0:\n",
    "        print(tweet_times[x])\n",
    "        print(tweet_datetime)"
   ]
  },
  {
   "cell_type": "code",
   "execution_count": 7,
   "metadata": {
    "scrolled": false
   },
   "outputs": [
    {
     "name": "stdout",
     "output_type": "stream",
     "text": [
      "Avg. Hours Between Tweets: 1.7612408149632597\n"
     ]
    }
   ],
   "source": [
    "# Calculate the time between tweets\n",
    "time_in_between = []\n",
    "\n",
    "# Calculate the time in between each tweet, then append the difference to the list\n",
    "# Hint: use a construction like the following: for x in range(len(tweet_time_objects)-1):\n",
    "# Hint: subtract the next item on the list from the current one, at position x\n",
    "\n",
    "for x in range(len(tweet_time_objects) - 1):\n",
    "    hours_apart = ((tweet_time_objects[x] - tweet_time_objects[x + 1]).seconds)/ 3600\n",
    "    time_in_between.append(hours_apart)\n",
    "\n",
    "# Hours Between Tweets\n",
    "print(f\"Avg. Hours Between Tweets: {np.mean(time_in_between)}\")"
   ]
  },
  {
   "cell_type": "code",
   "execution_count": 8,
   "metadata": {},
   "outputs": [
    {
     "data": {
      "text/plain": [
       "[0.5394444444444444,\n",
       " 0.07416666666666667,\n",
       " 2.0216666666666665,\n",
       " 1.508888888888889,\n",
       " 2.042777777777778,\n",
       " 3.3402777777777777,\n",
       " 0.4022222222222222,\n",
       " 0.0002777777777777778,\n",
       " 0.5158333333333334,\n",
       " 0.14944444444444444]"
      ]
     },
     "execution_count": 8,
     "metadata": {},
     "output_type": "execute_result"
    }
   ],
   "source": [
    "time_in_between[:10]"
   ]
  },
  {
   "cell_type": "code",
   "execution_count": 10,
   "metadata": {},
   "outputs": [
    {
     "data": {
      "text/plain": [
       "Text(0.5,1,'Tweet Velocity: realdonaldtrump')"
      ]
     },
     "execution_count": 10,
     "metadata": {},
     "output_type": "execute_result"
    },
    {
     "data": {
      "image/png": "[encoded data removed]",
      "text/plain": [
       "<Figure size 432x288 with 1 Axes>"
      ]
     },
     "metadata": {},
     "output_type": "display_data"
    }
   ],
   "source": [
    "# Use MatPlotLib to plot the time between Tweets\n",
    "plt.plot(range(len(time_in_between)), time_in_between, marker=\"o\")\n",
    "plt.xlim([0, len(time_in_between)])\n",
    "plt.ylabel(\"Hours Apart\")\n",
    "plt.xlabel(\"Tweets Ago\")\n",
    "plt.title(\"Tweet Velocity: realdonaldtrump\")"
   ]
  },
  {
   "cell_type": "code",
   "execution_count": null,
   "metadata": {},
   "outputs": [],
   "source": []
  }
 ],
 "metadata": {
  "anaconda-cloud": {},
  "kernelspec": {
   "display_name": "Python [conda env:PythonData]",
   "language": "python",
   "name": "conda-env-PythonData-py"
  },
  "language_info": {
   "codemirror_mode": {
    "name": "ipython",
    "version": 3
   },
   "file_extension": ".py",
   "mimetype": "text/x-python",
   "name": "python",
   "nbconvert_exporter": "python",
   "pygments_lexer": "ipython3",
   "version": "3.6.5"
  },
  "varInspector": {
   "cols": {
    "lenName": 16,
    "lenType": 16,
    "lenVar": 40
   },
   "kernels_config": {
    "python": {
     "delete_cmd_postfix": "",
     "delete_cmd_prefix": "del ",
     "library": "var_list.py",
     "varRefreshCmd": "print(var_dic_list())"
    },
    "r": {
     "delete_cmd_postfix": ") ",
     "delete_cmd_prefix": "rm(",
     "library": "var_list.r",
     "varRefreshCmd": "cat(var_dic_list()) "
    }
   },
   "types_to_exclude": [
    "module",
    "function",
    "builtin_function_or_method",
    "instance",
    "_Feature"
   ],
   "window_display": false
  }
 },
 "nbformat": 4,
 "nbformat_minor": 1
}
