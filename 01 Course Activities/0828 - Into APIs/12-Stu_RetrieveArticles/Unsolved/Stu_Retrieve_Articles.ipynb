{
 "cells": [
  {
   "cell_type": "code",
   "execution_count": 7,
   "metadata": {},
   "outputs": [
    {
     "name": "stdout",
     "output_type": "stream",
     "text": [
      "https://api.nytimes.com/svc/search/v2/articlesearch.json?api-key=3fecdd5f9dcc44a3a76422d956d0118e&q=fashion&begin_date19900101&end_date19901001\n"
     ]
    }
   ],
   "source": [
    "# Dependencies\n",
    "import requests\n",
    "from config import api_key\n",
    "import time\n",
    "\n",
    "url = \"https://api.nytimes.com/svc/search/v2/articlesearch.json?\"\n",
    "\n",
    "# Store a search term\n",
    "query = \"fashion\"\n",
    "\n",
    "# Search for articles published between a begin and end date\n",
    "begin_date = \"19900101\"\n",
    "end_date = \"19901001\"\n",
    "\n",
    "# Build url\n",
    "query_url = f\"{url}api-key={api_key}&q={query}&begin_date{begin_date}&end_date{end_date}\"\n",
    "print(query_url)"
   ]
  },
  {
   "cell_type": "code",
   "execution_count": 8,
   "metadata": {},
   "outputs": [
    {
     "name": "stdout",
     "output_type": "stream",
     "text": [
      "A snippet from the article: Long and lovely, these garments are best when thrown on quickly and worn out casually.\n",
      "\n",
      "A snippet from the article: Pile on ￼familiar patterns for fall — in the form of sensual dresses, separates and accessories.\n",
      "\n",
      "A snippet from the article: Why is it that an industry aimed at women and buoyed by female dollars is still run mostly by men? A new study tries to find out.\n",
      "\n",
      "A snippet from the article: A reader says she felt misled by killjoy feminists.\n",
      "\n",
      "A snippet from the article: Vincent Frederic Colombo is an art director, model scout and stylist whose work presents a contemporary idea of his cultural heritage.\n",
      "\n",
      "A snippet from the article: The monthlong men’s wear season, with stops in Florence, Milan and Paris, may not be hanging together thematically. But in terms of moments, it has provided some doozies. \n",
      "\n",
      "A snippet from the article: The appointment of Stephanie Phair, a digital strategist, indicates that British fashion’s governing body is continuing to focus on the future.\n",
      "\n",
      "A snippet from the article: Spring men’s wear that channels the photographer Robert Mapplethorpe’s visual world.\n",
      "\n",
      "A snippet from the article: When clashed together, this season’s wealth of checks and tartans takes on a rebellious, puckish spirit.\n",
      "\n",
      "A snippet from the article: His men’s wear models mirrored the world. And so did the clothes.\n",
      "\n"
     ]
    }
   ],
   "source": [
    "# Retrieve articles\n",
    "articles = requests.get(query_url).json()\n",
    "articles_list = [article for article in articles[\"response\"][\"docs\"]]\n",
    "\n",
    "for article in articles_list:\n",
    "    print(f\"A snippet from the article: {article['snippet']}\")\n",
    "    print()"
   ]
  },
  {
   "cell_type": "code",
   "execution_count": 9,
   "metadata": {},
   "outputs": [],
   "source": [
    "# BONUS: How would we get 30 results? \n",
    "# HINT: Look up the page query param\n",
    "article_list = []\n",
    "for page in range(0, 3):\n",
    "    query_url = f\"{url}api-key={api_key}&q={query}&begin_date{begin_date}&end_date{end_date}\"\n",
    "    query_url = f\"{query_url}&page={page}\"\n",
    "    articles = requests.get(query_url).json()\n",
    "    \n",
    "    time.sleep(1)\n",
    "    \n",
    "    for article in articles[\"response\"][\"docs\"]:\n",
    "        articles_list.append(article)"
   ]
  },
  {
   "cell_type": "code",
   "execution_count": 10,
   "metadata": {},
   "outputs": [
    {
     "name": "stdout",
     "output_type": "stream",
     "text": [
      "A snippet from the article: Long and lovely, these garments are best when thrown on quickly and worn out casually.\n",
      "\n",
      "A snippet from the article: Pile on ￼familiar patterns for fall — in the form of sensual dresses, separates and accessories.\n",
      "\n",
      "A snippet from the article: Why is it that an industry aimed at women and buoyed by female dollars is still run mostly by men? A new study tries to find out.\n",
      "\n",
      "A snippet from the article: A reader says she felt misled by killjoy feminists.\n",
      "\n",
      "A snippet from the article: Vincent Frederic Colombo is an art director, model scout and stylist whose work presents a contemporary idea of his cultural heritage.\n",
      "\n",
      "A snippet from the article: The monthlong men’s wear season, with stops in Florence, Milan and Paris, may not be hanging together thematically. But in terms of moments, it has provided some doozies. \n",
      "\n",
      "A snippet from the article: The appointment of Stephanie Phair, a digital strategist, indicates that British fashion’s governing body is continuing to focus on the future.\n",
      "\n",
      "A snippet from the article: Spring men’s wear that channels the photographer Robert Mapplethorpe’s visual world.\n",
      "\n",
      "A snippet from the article: When clashed together, this season’s wealth of checks and tartans takes on a rebellious, puckish spirit.\n",
      "\n",
      "A snippet from the article: His men’s wear models mirrored the world. And so did the clothes.\n",
      "\n",
      "A snippet from the article: Long and lovely, these garments are best when thrown on quickly and worn out casually.\n",
      "\n",
      "A snippet from the article: Pile on ￼familiar patterns for fall — in the form of sensual dresses, separates and accessories.\n",
      "\n",
      "A snippet from the article: Why is it that an industry aimed at women and buoyed by female dollars is still run mostly by men? A new study tries to find out.\n",
      "\n",
      "A snippet from the article: A reader says she felt misled by killjoy feminists.\n",
      "\n",
      "A snippet from the article: Vincent Frederic Colombo is an art director, model scout and stylist whose work presents a contemporary idea of his cultural heritage.\n",
      "\n",
      "A snippet from the article: The monthlong men’s wear season, with stops in Florence, Milan and Paris, may not be hanging together thematically. But in terms of moments, it has provided some doozies. \n",
      "\n",
      "A snippet from the article: The appointment of Stephanie Phair, a digital strategist, indicates that British fashion’s governing body is continuing to focus on the future.\n",
      "\n",
      "A snippet from the article: Spring men’s wear that channels the photographer Robert Mapplethorpe’s visual world.\n",
      "\n",
      "A snippet from the article: When clashed together, this season’s wealth of checks and tartans takes on a rebellious, puckish spirit.\n",
      "\n",
      "A snippet from the article: His men’s wear models mirrored the world. And so did the clothes.\n",
      "\n",
      "A snippet from the article: Givenchy and Iris Van Herpen play two very different winning games.\n",
      "\n",
      "A snippet from the article: Amid buzz and chatter of novelty, the shows that made clothes, not news. \n",
      "\n",
      "A snippet from the article: Lace-embellished separates, oversize knits and tweed suiting combine to create looks for the woman deep in thought.\n",
      "\n",
      "A snippet from the article: Dawnn Karen of the Fashion Institute of Technology is a leader in the growing field of fashion psychology — or why we want what we think we want.\n",
      "\n",
      "A snippet from the article: The Times’s fashion director and chief fashion critic reflects on what makes haute couture relevant.\n",
      "\n",
      "A snippet from the article: A documentary about the fashion world Zelig André Leon Talley doesn’t live up to his energy.\n",
      "\n",
      "A snippet from the article: Working for the likes of John Galliano and Christian Dior, he made shows an Instagram experience before Instagram even existed. His death feels like part of the end of a generation of talent.\n",
      "\n",
      "A snippet from the article: A successful magazine is a collection of disparate personalities with disparate interests who are all trying to tell stories using the language in which they are most fluent.\n",
      "\n",
      "A snippet from the article: Winds of change may be blowing through the desert kingdom, but a sudden postponement of its first fashion week suggests bumps in the road.\n",
      "\n",
      "A snippet from the article: As the spring 2019 shows begin in London, the schedule is thin. But there are things to anticipate this season, from designer debuts to city switcheroos and the renaissance of L’Uomo Vogue.\n",
      "\n",
      "A snippet from the article: The Los Angeles-based brand 69, which creates whimsical, gender-neutral clothing, prepares for a museum retrospective.\n",
      "\n",
      "A snippet from the article: Bodice, the winner of the Woolmark prize, wants to change how the world sees Indian fashion.\n",
      "\n",
      "A snippet from the article: News about Fashion Institute of Technology, including commentary and archival articles published in The New York Times.\n",
      "\n",
      "A snippet from the article: News about Paris Fashion Week, including commentary and archival articles published in The New York Times.\n",
      "\n",
      "A snippet from the article: Everything you need to know about the CFDA Awards tonight — how much it costs to go, who picks the winners and what Kim Kardashian West may wear.\n",
      "\n",
      "A snippet from the article: News about Milan Fashion Week, including commentary and archival articles published in The New York Times.\n",
      "\n",
      "A snippet from the article: Anniesa Hasibuan once epitomized Muslim glamour. Now the Indonesian designer has been sentenced to prison for defrauding people hoping to travel to Mecca.\n",
      "\n",
      "A snippet from the article: News about Zuoan Fashion Ltd., including commentary and archival articles published in The New York Times.\n",
      "\n",
      "A snippet from the article: The directors of “McQueen,” “Westwood” and “The Gospel According to André” say their subjects are the stuff of great drama.\n",
      "\n",
      "A snippet from the article: Runway slideshows.\n",
      "\n"
     ]
    }
   ],
   "source": [
    "for article in articles_list:\n",
    "    print(f\"A snippet from the article: {article['snippet']}\")\n",
    "    print()"
   ]
  },
  {
   "cell_type": "code",
   "execution_count": null,
   "metadata": {},
   "outputs": [],
   "source": []
  }
 ],
 "metadata": {
  "kernelspec": {
   "display_name": "Python [conda env:PythonData]",
   "language": "python",
   "name": "conda-env-PythonData-py"
  },
  "language_info": {
   "codemirror_mode": {
    "name": "ipython",
    "version": 3
   },
   "file_extension": ".py",
   "mimetype": "text/x-python",
   "name": "python",
   "nbconvert_exporter": "python",
   "pygments_lexer": "ipython3",
   "version": "3.6.5"
  },
  "varInspector": {
   "cols": {
    "lenName": 16,
    "lenType": 16,
    "lenVar": 40
   },
   "kernels_config": {
    "python": {
     "delete_cmd_postfix": "",
     "delete_cmd_prefix": "del ",
     "library": "var_list.py",
     "varRefreshCmd": "print(var_dic_list())"
    },
    "r": {
     "delete_cmd_postfix": ") ",
     "delete_cmd_prefix": "rm(",
     "library": "var_list.r",
     "varRefreshCmd": "cat(var_dic_list()) "
    }
   },
   "types_to_exclude": [
    "module",
    "function",
    "builtin_function_or_method",
    "instance",
    "_Feature"
   ],
   "window_display": false
  }
 },
 "nbformat": 4,
 "nbformat_minor": 2
}
