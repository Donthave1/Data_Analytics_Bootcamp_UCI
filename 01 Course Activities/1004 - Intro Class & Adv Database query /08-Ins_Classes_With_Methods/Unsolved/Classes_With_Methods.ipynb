{
 "cells": [
  {
   "cell_type": "code",
   "execution_count": 5,
   "metadata": {},
   "outputs": [],
   "source": [
    "class Film():\n",
    "    def __init__(self, name, length, release_year, language):\n",
    "        self.name = name\n",
    "        self.length = length\n",
    "        self.release_year = release_year\n",
    "        self.language = language"
   ]
  },
  {
   "cell_type": "code",
   "execution_count": 6,
   "metadata": {},
   "outputs": [],
   "source": [
    "star_wars = Film(\"Star Wars\", 121, 1977, \"English\")"
   ]
  },
  {
   "cell_type": "code",
   "execution_count": 7,
   "metadata": {},
   "outputs": [],
   "source": [
    "class Expert():\n",
    "    def __init__(self, name):\n",
    "        self.name = name\n",
    "        \n",
    "    def boast(self, obj):\n",
    "        print(f\"Hi! My name is {self.name}\")\n",
    "        print(f\"I know a lot about {obj.name}\")\n",
    "        print(f\"It is {obj.length} minutes long\")\n",
    "        print(f\"It was released in {obj.release_year}\")\n",
    "        print(f\"It is in {obj.language}\")"
   ]
  },
  {
   "cell_type": "code",
   "execution_count": 8,
   "metadata": {},
   "outputs": [],
   "source": [
    "superfan = Expert(\"Dustin\")"
   ]
  },
  {
   "cell_type": "code",
   "execution_count": 9,
   "metadata": {},
   "outputs": [
    {
     "name": "stdout",
     "output_type": "stream",
     "text": [
      "Hi! My name is Dustin\n",
      "I know a lot about Star Wars\n",
      "It is 121 minutes long\n",
      "It was released in 1977\n",
      "It is in English\n"
     ]
    }
   ],
   "source": [
    "superfan.boast(star_wars)"
   ]
  },
  {
   "cell_type": "code",
   "execution_count": 10,
   "metadata": {},
   "outputs": [],
   "source": [
    "toy_story = Film(\"Toy Store\", 120, 1995, \"English\")"
   ]
  },
  {
   "cell_type": "code",
   "execution_count": 11,
   "metadata": {},
   "outputs": [
    {
     "name": "stdout",
     "output_type": "stream",
     "text": [
      "Hi! My name is Dustin\n",
      "I know a lot about Toy Store\n",
      "It is 120 minutes long\n",
      "It was released in 1995\n",
      "It is in English\n"
     ]
    }
   ],
   "source": [
    "superfan.boast(toy_story)"
   ]
  },
  {
   "cell_type": "code",
   "execution_count": 12,
   "metadata": {},
   "outputs": [],
   "source": [
    "fan2 = Expert(\"Stefanie\")"
   ]
  },
  {
   "cell_type": "code",
   "execution_count": 13,
   "metadata": {},
   "outputs": [
    {
     "name": "stdout",
     "output_type": "stream",
     "text": [
      "Hi! My name is Stefanie\n",
      "I know a lot about Star Wars\n",
      "It is 121 minutes long\n",
      "It was released in 1977\n",
      "It is in English\n"
     ]
    }
   ],
   "source": [
    "fan2.boast(star_wars)"
   ]
  },
  {
   "cell_type": "code",
   "execution_count": null,
   "metadata": {},
   "outputs": [],
   "source": []
  }
 ],
 "metadata": {
  "kernelspec": {
   "display_name": "Python [conda env:PythonData]",
   "language": "python",
   "name": "conda-env-PythonData-py"
  },
  "language_info": {
   "codemirror_mode": {
    "name": "ipython",
    "version": 3
   },
   "file_extension": ".py",
   "mimetype": "text/x-python",
   "name": "python",
   "nbconvert_exporter": "python",
   "pygments_lexer": "ipython3",
   "version": "3.6.5"
  },
  "varInspector": {
   "cols": {
    "lenName": 16,
    "lenType": 16,
    "lenVar": 40
   },
   "kernels_config": {
    "python": {
     "delete_cmd_postfix": "",
     "delete_cmd_prefix": "del ",
     "library": "var_list.py",
     "varRefreshCmd": "print(var_dic_list())"
    },
    "r": {
     "delete_cmd_postfix": ") ",
     "delete_cmd_prefix": "rm(",
     "library": "var_list.r",
     "varRefreshCmd": "cat(var_dic_list()) "
    }
   },
   "types_to_exclude": [
    "module",
    "function",
    "builtin_function_or_method",
    "instance",
    "_Feature"
   ],
   "window_display": false
  }
 },
 "nbformat": 4,
 "nbformat_minor": 2
}
