{
 "cells": [
  {
   "cell_type": "code",
   "execution_count": 19,
   "metadata": {},
   "outputs": [],
   "source": [
    "# Define the Surfer Class\n",
    "class Surfer():\n",
    "    \n",
    "    surfer_count = 0\n",
    "    \n",
    "    def __init__(self, name, hometown, rank, wipeouts=0):\n",
    "        self.name = name\n",
    "        self.hometown = hometown\n",
    "        self.rank = rank\n",
    "        self.wipeouts = wipeouts\n",
    "        Surfer.surfer_count += 1\n",
    "        \n",
    "    def speak(self):\n",
    "        print(\"Hang loose bruh!\")\n",
    "    def biography(self):\n",
    "        print(f\"My name is {self.name}, I am from {self.hometown} and rank # {self.rank}, I've wiped out {self.wipeouts} times!\")\n",
    "    def cheer(self):\n",
    "        if self.wipeouts == 0:\n",
    "            print(\"I totally rock man, no wipe outs!\")\n",
    "        else:\n",
    "            print(\"Bummer bruh, keep on keeping on!\")\n",
    "            \n",
    "    def print_surfer(self):\n",
    "        print(self.name)\n",
    "        print(self.hometown)\n",
    "        print(self.rank)\n",
    "        print(self.wipeouts)\n",
    "        \n",
    "    def count_surfers(self):\n",
    "        print(f\"Total surfers shredding waves {Surfer.surfer_count}\")"
   ]
  },
  {
   "cell_type": "code",
   "execution_count": 20,
   "metadata": {},
   "outputs": [
    {
     "name": "stdout",
     "output_type": "stream",
     "text": [
      "Kelly Slater\n",
      "Cocoa Beach\n",
      "1\n",
      "0\n",
      "Hang loose bruh!\n",
      "My name is Kelly Slater, I am from Cocoa Beach and rank # 1, I've wiped out 0 times!\n",
      "I totally rock man, no wipe outs!\n",
      "Total surfers shredding waves 1\n"
     ]
    }
   ],
   "source": [
    "# Create Surfers\n",
    "# --------------------------------------------------------------------------------\n",
    "kelly = Surfer(\"Kelly Slater\", \"Cocoa Beach\", 1)\n",
    "kelly.print_surfer()\n",
    "kelly.speak()\n",
    "kelly.biography()\n",
    "kelly.cheer()\n",
    "kelly.count_surfers()"
   ]
  },
  {
   "cell_type": "code",
   "execution_count": 21,
   "metadata": {},
   "outputs": [
    {
     "name": "stdout",
     "output_type": "stream",
     "text": [
      "John Breezy\n",
      "Spring Lake\n",
      "2\n",
      "10\n",
      "Hang loose bruh!\n",
      "My name is John Breezy, I am from Spring Lake and rank # 2, I've wiped out 10 times!\n",
      "Bummer bruh, keep on keeping on!\n",
      "Total surfers shredding waves 2\n"
     ]
    }
   ],
   "source": [
    "john = Surfer(\"John Breezy\", \"Spring Lake\", 2, 10)\n",
    "john.print_surfer()\n",
    "john.speak()\n",
    "john.biography()\n",
    "john.cheer()\n",
    "john.count_surfers()"
   ]
  },
  {
   "cell_type": "code",
   "execution_count": null,
   "metadata": {},
   "outputs": [],
   "source": []
  }
 ],
 "metadata": {
  "kernelspec": {
   "display_name": "Python [default]",
   "language": "python",
   "name": "python3"
  },
  "language_info": {
   "codemirror_mode": {
    "name": "ipython",
    "version": 3
   },
   "file_extension": ".py",
   "mimetype": "text/x-python",
   "name": "python",
   "nbconvert_exporter": "python",
   "pygments_lexer": "ipython3",
   "version": "3.6.5"
  },
  "varInspector": {
   "cols": {
    "lenName": 16,
    "lenType": 16,
    "lenVar": 40
   },
   "kernels_config": {
    "python": {
     "delete_cmd_postfix": "",
     "delete_cmd_prefix": "del ",
     "library": "var_list.py",
     "varRefreshCmd": "print(var_dic_list())"
    },
    "r": {
     "delete_cmd_postfix": ") ",
     "delete_cmd_prefix": "rm(",
     "library": "var_list.r",
     "varRefreshCmd": "cat(var_dic_list()) "
    }
   },
   "types_to_exclude": [
    "module",
    "function",
    "builtin_function_or_method",
    "instance",
    "_Feature"
   ],
   "window_display": false
  }
 },
 "nbformat": 4,
 "nbformat_minor": 2
}
