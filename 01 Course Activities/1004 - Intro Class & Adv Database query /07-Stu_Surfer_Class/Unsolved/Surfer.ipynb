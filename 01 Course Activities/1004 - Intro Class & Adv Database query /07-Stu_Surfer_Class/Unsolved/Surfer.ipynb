{
 "cells": [
  {
   "cell_type": "code",
   "execution_count": 12,
   "metadata": {},
   "outputs": [],
   "source": [
    "# Define the Surfer Class\n",
    "class Surfer():\n",
    "    def __init__(self, name, hometown, rank):\n",
    "        self.name = f\"{name} Dude\"\n",
    "        self.hometown = f\"{hometown} Waves\"\n",
    "        self.rank = rank"
   ]
  },
  {
   "cell_type": "code",
   "execution_count": 13,
   "metadata": {},
   "outputs": [],
   "source": [
    "# Create an instance of the Surfer Class\n",
    "kelly_surfer = Surfer(\"Kelly Slater\", \"Cocoa Beach\", 1)"
   ]
  },
  {
   "cell_type": "code",
   "execution_count": 14,
   "metadata": {},
   "outputs": [],
   "source": [
    "# Print the object's attributes\n",
    "def print_surfer(surfer):\n",
    "    print(surfer.name)\n",
    "    print(surfer.hometown)\n",
    "    print(surfer.rank)"
   ]
  },
  {
   "cell_type": "code",
   "execution_count": 15,
   "metadata": {},
   "outputs": [
    {
     "name": "stdout",
     "output_type": "stream",
     "text": [
      "Kelly Slater Dude\n",
      "Cocoa Beach Waves\n",
      "1\n"
     ]
    }
   ],
   "source": [
    "print_surfer(kelly_surfer)"
   ]
  },
  {
   "cell_type": "code",
   "execution_count": 16,
   "metadata": {},
   "outputs": [
    {
     "name": "stdout",
     "output_type": "stream",
     "text": [
      "What is the surfer's name?David\n",
      "Where did the surfer came from?Huntington Beach\n",
      "What is the surfer's rank?1\n",
      "David Dude\n",
      "Huntington Beach Waves\n",
      "1\n",
      "Do you want to continue? (Y/N)y\n",
      "What is the surfer's name?Alex\n",
      "Where did the surfer came from?Irvine\n",
      "What is the surfer's rank?10\n",
      "Alex Dude\n",
      "Irvine Waves\n",
      "10\n",
      "Do you want to continue? (Y/N)n\n"
     ]
    }
   ],
   "source": [
    "# ----BONUS----\n",
    "# Variable to keep track of changes to while loop\n",
    "go = True\n",
    "while go:\n",
    "    name = input(\"What is the surfer's name?\")\n",
    "    hometown = input(\"Where did the surfer came from?\")\n",
    "    rank = input(\"What is the surfer's rank?\")\n",
    "    \n",
    "    surfer = Surfer(name, hometown, rank)\n",
    "    \n",
    "    print_surfer(surfer)\n",
    "    \n",
    "    check = input(\"Do you want to continue? (Y/N)\")\n",
    "    if check.lower() != \"y\":\n",
    "        go = False"
   ]
  },
  {
   "cell_type": "code",
   "execution_count": null,
   "metadata": {},
   "outputs": [],
   "source": []
  }
 ],
 "metadata": {
  "kernelspec": {
   "display_name": "Python [default]",
   "language": "python",
   "name": "python3"
  },
  "language_info": {
   "codemirror_mode": {
    "name": "ipython",
    "version": 3
   },
   "file_extension": ".py",
   "mimetype": "text/x-python",
   "name": "python",
   "nbconvert_exporter": "python",
   "pygments_lexer": "ipython3",
   "version": "3.6.5"
  },
  "varInspector": {
   "cols": {
    "lenName": 16,
    "lenType": 16,
    "lenVar": 40
   },
   "kernels_config": {
    "python": {
     "delete_cmd_postfix": "",
     "delete_cmd_prefix": "del ",
     "library": "var_list.py",
     "varRefreshCmd": "print(var_dic_list())"
    },
    "r": {
     "delete_cmd_postfix": ") ",
     "delete_cmd_prefix": "rm(",
     "library": "var_list.r",
     "varRefreshCmd": "cat(var_dic_list()) "
    }
   },
   "types_to_exclude": [
    "module",
    "function",
    "builtin_function_or_method",
    "instance",
    "_Feature"
   ],
   "window_display": false
  }
 },
 "nbformat": 4,
 "nbformat_minor": 2
}
