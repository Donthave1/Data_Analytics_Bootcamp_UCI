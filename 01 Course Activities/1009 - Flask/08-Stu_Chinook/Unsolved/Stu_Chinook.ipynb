{
 "cells": [
  {
   "cell_type": "code",
   "execution_count": 2,
   "metadata": {
    "deletable": false,
    "editable": false,
    "nbgrader": {
     "checksum": "9d602cf93c40f5e5ca32dfddb188a893",
     "grade": false,
     "grade_id": "cell-ce43e917c058e1e6",
     "locked": true,
     "schema_version": 1,
     "solution": false
    }
   },
   "outputs": [],
   "source": [
    "# Ignore SQLITE warnings related to Decimal numbers in the Chinook database\n",
    "import warnings\n",
    "warnings.filterwarnings('ignore')"
   ]
  },
  {
   "cell_type": "code",
   "execution_count": 12,
   "metadata": {
    "deletable": false,
    "nbgrader": {
     "checksum": "cad959afc6f3e2fe3e5c799304133d7b",
     "grade": false,
     "grade_id": "cell-5a901ed15fb6e525",
     "locked": false,
     "schema_version": 1,
     "solution": true
    }
   },
   "outputs": [],
   "source": [
    "# Import Dependencies\n",
    "import matplotlib.pyplot as plt\n",
    "import pandas as pd\n",
    "import numpy as np\n",
    "# Import SQLAlchemy `automap` and other dependencies here\n",
    "import sqlalchemy\n",
    "from sqlalchemy.ext.automap import automap_base\n",
    "from sqlalchemy.orm import Session\n",
    "from sqlalchemy import create_engine, inspect, func\n"
   ]
  },
  {
   "cell_type": "code",
   "execution_count": 4,
   "metadata": {
    "deletable": false,
    "nbgrader": {
     "checksum": "2cb8870d53a9518f160a8520699b0b46",
     "grade": false,
     "grade_id": "cell-3061988562b57cdd",
     "locked": false,
     "schema_version": 1,
     "solution": true
    }
   },
   "outputs": [],
   "source": [
    "# Create an engine for the chinook.sqlite database\n",
    "engine = create_engine(\"sqlite:///../Resources/chinook.sqlite\", echo=False)"
   ]
  },
  {
   "cell_type": "code",
   "execution_count": 5,
   "metadata": {
    "deletable": false,
    "nbgrader": {
     "checksum": "adbea09ccfc57033c747ec7155126700",
     "grade": false,
     "grade_id": "cell-96fcd4f8590fa08d",
     "locked": false,
     "schema_version": 1,
     "solution": true
    }
   },
   "outputs": [
    {
     "data": {
      "text/plain": [
       "['albums',\n",
       " 'artists',\n",
       " 'customers',\n",
       " 'employees',\n",
       " 'genres',\n",
       " 'invoice_items',\n",
       " 'invoices',\n",
       " 'media_types',\n",
       " 'playlist_track',\n",
       " 'playlists',\n",
       " 'sqlite_sequence',\n",
       " 'sqlite_stat1',\n",
       " 'tracks']"
      ]
     },
     "execution_count": 5,
     "metadata": {},
     "output_type": "execute_result"
    }
   ],
   "source": [
    "# Reflect Database into ORM classes\n",
    "Base = automap_base()\n",
    "Base.prepare(engine, reflect=True)\n",
    "inspector = inspect(engine)\n",
    "inspector.get_table_names()"
   ]
  },
  {
   "cell_type": "code",
   "execution_count": 7,
   "metadata": {
    "deletable": false,
    "nbgrader": {
     "checksum": "f2f9e57aeefe3280d2f9a8398766ae1b",
     "grade": false,
     "grade_id": "cell-b94d91b48824b4bd",
     "locked": false,
     "schema_version": 1,
     "solution": true
    }
   },
   "outputs": [
    {
     "name": "stdout",
     "output_type": "stream",
     "text": [
      "InvoiceId INTEGER\n",
      "CustomerId INTEGER\n",
      "InvoiceDate DATETIME\n",
      "BillingAddress NVARCHAR(70)\n",
      "BillingCity NVARCHAR(40)\n",
      "BillingState NVARCHAR(40)\n",
      "BillingCountry NVARCHAR(40)\n",
      "BillingPostalCode NVARCHAR(10)\n",
      "Total NUMERIC(10, 2)\n"
     ]
    }
   ],
   "source": [
    "# Save a reference to the invoices table as `Invoices`\n",
    "Invoices = Base.classes.invoices\n",
    "columns = inspector.get_columns('invoices')\n",
    "for column in columns:\n",
    "    print(column[\"name\"], column[\"type\"])"
   ]
  },
  {
   "cell_type": "code",
   "execution_count": 8,
   "metadata": {
    "deletable": false,
    "nbgrader": {
     "checksum": "9d4fecd952331e0d9a0320d129637ac9",
     "grade": false,
     "grade_id": "cell-691d1378e207458c",
     "locked": false,
     "schema_version": 1,
     "solution": true
    }
   },
   "outputs": [],
   "source": [
    "# Create a database session object\n",
    "session = Session(engine)"
   ]
  },
  {
   "cell_type": "code",
   "execution_count": 13,
   "metadata": {
    "deletable": false,
    "nbgrader": {
     "checksum": "04b37f5699e715835e87bdfeaf17b146",
     "grade": false,
     "grade_id": "cell-88cce17ddb8934fb",
     "locked": false,
     "schema_version": 1,
     "solution": true
    }
   },
   "outputs": [
    {
     "data": {
      "text/plain": [
       "['Germany',\n",
       " 'Norway',\n",
       " 'Belgium',\n",
       " 'Canada',\n",
       " 'USA',\n",
       " 'Germany',\n",
       " 'Germany',\n",
       " 'France',\n",
       " 'France',\n",
       " 'Ireland',\n",
       " 'United Kingdom',\n",
       " 'Germany',\n",
       " 'USA',\n",
       " 'USA',\n",
       " 'USA',\n",
       " 'USA',\n",
       " 'USA',\n",
       " 'Canada',\n",
       " 'France',\n",
       " 'United Kingdom',\n",
       " 'Australia',\n",
       " 'Chile',\n",
       " 'India',\n",
       " 'Norway',\n",
       " 'Brazil',\n",
       " 'USA',\n",
       " 'Canada',\n",
       " 'Portugal',\n",
       " 'Germany',\n",
       " 'Germany',\n",
       " 'France',\n",
       " 'Netherlands',\n",
       " 'Chile',\n",
       " 'Brazil',\n",
       " 'Brazil',\n",
       " 'Canada',\n",
       " 'USA',\n",
       " 'USA',\n",
       " 'USA',\n",
       " 'Germany',\n",
       " 'Spain',\n",
       " 'Sweden',\n",
       " 'United Kingdom',\n",
       " 'Australia',\n",
       " 'India',\n",
       " 'Czech Republic',\n",
       " 'Canada',\n",
       " 'Canada',\n",
       " 'Canada',\n",
       " 'Canada',\n",
       " 'Portugal',\n",
       " 'Germany',\n",
       " 'Finland',\n",
       " 'United Kingdom',\n",
       " 'Belgium',\n",
       " 'Denmark',\n",
       " 'Brazil',\n",
       " 'Brazil',\n",
       " 'USA',\n",
       " 'USA',\n",
       " 'Canada',\n",
       " 'Ireland',\n",
       " 'Italy',\n",
       " 'Poland',\n",
       " 'Sweden',\n",
       " 'Australia',\n",
       " 'Germany',\n",
       " 'Brazil',\n",
       " 'USA',\n",
       " 'USA',\n",
       " 'USA',\n",
       " 'Canada',\n",
       " 'Portugal',\n",
       " 'France',\n",
       " 'Poland',\n",
       " 'Norway',\n",
       " 'Czech Republic',\n",
       " 'Austria',\n",
       " 'Denmark',\n",
       " 'Brazil',\n",
       " 'USA',\n",
       " 'USA',\n",
       " 'France',\n",
       " 'France',\n",
       " 'Hungary',\n",
       " 'Italy',\n",
       " 'Sweden',\n",
       " 'Chile',\n",
       " 'Austria',\n",
       " 'USA',\n",
       " 'USA',\n",
       " 'USA',\n",
       " 'USA',\n",
       " 'Canada',\n",
       " 'Germany',\n",
       " 'Hungary',\n",
       " 'India',\n",
       " 'Brazil',\n",
       " 'Canada',\n",
       " 'Czech Republic',\n",
       " 'Denmark',\n",
       " 'Canada',\n",
       " 'USA',\n",
       " 'Germany',\n",
       " 'France',\n",
       " 'France',\n",
       " 'France',\n",
       " 'Italy',\n",
       " 'United Kingdom',\n",
       " 'Canada',\n",
       " 'USA',\n",
       " 'USA',\n",
       " 'USA',\n",
       " 'USA',\n",
       " 'USA',\n",
       " 'Canada',\n",
       " 'France',\n",
       " 'Australia',\n",
       " 'Argentina',\n",
       " 'India',\n",
       " 'Brazil',\n",
       " 'Czech Republic',\n",
       " 'Brazil',\n",
       " 'USA',\n",
       " 'Portugal',\n",
       " 'Portugal',\n",
       " 'Germany',\n",
       " 'France',\n",
       " 'France',\n",
       " 'Poland',\n",
       " 'India',\n",
       " 'Brazil',\n",
       " 'Canada',\n",
       " 'USA',\n",
       " 'USA',\n",
       " 'USA',\n",
       " 'USA',\n",
       " 'Germany',\n",
       " 'Sweden',\n",
       " 'United Kingdom',\n",
       " 'United Kingdom',\n",
       " 'Argentina',\n",
       " 'Brazil',\n",
       " 'Austria',\n",
       " 'USA',\n",
       " 'Canada',\n",
       " 'Canada',\n",
       " 'Canada',\n",
       " 'Portugal',\n",
       " 'France',\n",
       " 'Hungary',\n",
       " 'United Kingdom',\n",
       " 'Denmark',\n",
       " 'Brazil',\n",
       " 'Brazil',\n",
       " 'Canada',\n",
       " 'USA',\n",
       " 'USA',\n",
       " 'Canada',\n",
       " 'Italy',\n",
       " 'Netherlands',\n",
       " 'Spain',\n",
       " 'United Kingdom',\n",
       " 'Argentina',\n",
       " 'Canada',\n",
       " 'Brazil',\n",
       " 'USA',\n",
       " 'USA',\n",
       " 'Canada',\n",
       " 'Canada',\n",
       " 'Portugal',\n",
       " 'France',\n",
       " 'Spain',\n",
       " 'Czech Republic',\n",
       " 'Czech Republic',\n",
       " 'Belgium',\n",
       " 'Brazil',\n",
       " 'Canada',\n",
       " 'USA',\n",
       " 'Canada',\n",
       " 'France',\n",
       " 'Finland',\n",
       " 'Ireland',\n",
       " 'Netherlands',\n",
       " 'United Kingdom',\n",
       " 'India',\n",
       " 'Belgium',\n",
       " 'USA',\n",
       " 'USA',\n",
       " 'USA',\n",
       " 'USA',\n",
       " 'Canada',\n",
       " 'Germany',\n",
       " 'Ireland',\n",
       " 'Brazil',\n",
       " 'Germany',\n",
       " 'Norway',\n",
       " 'Czech Republic',\n",
       " 'Brazil',\n",
       " 'USA',\n",
       " 'USA',\n",
       " 'France',\n",
       " 'France',\n",
       " 'France',\n",
       " 'Finland',\n",
       " 'Netherlands',\n",
       " 'United Kingdom',\n",
       " 'Norway',\n",
       " 'USA',\n",
       " 'USA',\n",
       " 'USA',\n",
       " 'USA',\n",
       " 'USA',\n",
       " 'Canada',\n",
       " 'France',\n",
       " 'Argentina',\n",
       " 'Chile',\n",
       " 'India',\n",
       " 'Germany',\n",
       " 'Czech Republic',\n",
       " 'Brazil',\n",
       " 'USA',\n",
       " 'Portugal',\n",
       " 'Germany',\n",
       " 'Germany',\n",
       " 'France',\n",
       " 'Finland',\n",
       " 'Spain',\n",
       " 'India',\n",
       " 'Canada',\n",
       " 'Canada',\n",
       " 'USA',\n",
       " 'USA',\n",
       " 'USA',\n",
       " 'Canada',\n",
       " 'Germany',\n",
       " 'United Kingdom',\n",
       " 'United Kingdom',\n",
       " 'Australia',\n",
       " 'Chile',\n",
       " 'Germany',\n",
       " 'Belgium',\n",
       " 'USA',\n",
       " 'Canada',\n",
       " 'Canada',\n",
       " 'Portugal',\n",
       " 'Germany',\n",
       " 'France',\n",
       " 'Ireland',\n",
       " 'Australia',\n",
       " 'Brazil',\n",
       " 'Brazil',\n",
       " 'Brazil',\n",
       " 'Canada',\n",
       " 'USA',\n",
       " 'USA',\n",
       " 'Portugal',\n",
       " 'Netherlands',\n",
       " 'Poland',\n",
       " 'Sweden',\n",
       " 'United Kingdom',\n",
       " 'Chile',\n",
       " 'Norway',\n",
       " 'Brazil',\n",
       " 'USA',\n",
       " 'USA',\n",
       " 'Canada',\n",
       " 'Canada',\n",
       " 'Germany',\n",
       " 'France',\n",
       " 'Sweden',\n",
       " 'Czech Republic',\n",
       " 'Austria',\n",
       " 'Denmark',\n",
       " 'Brazil',\n",
       " 'Canada',\n",
       " 'USA',\n",
       " 'Canada',\n",
       " 'Finland',\n",
       " 'Hungary',\n",
       " 'Italy',\n",
       " 'Poland',\n",
       " 'United Kingdom',\n",
       " 'India',\n",
       " 'Denmark',\n",
       " 'USA',\n",
       " 'USA',\n",
       " 'USA',\n",
       " 'USA',\n",
       " 'Canada',\n",
       " 'Germany',\n",
       " 'Italy',\n",
       " 'Germany',\n",
       " 'Canada',\n",
       " 'Czech Republic',\n",
       " 'Austria',\n",
       " 'Brazil',\n",
       " 'USA',\n",
       " 'USA',\n",
       " 'France',\n",
       " 'France',\n",
       " 'France',\n",
       " 'Hungary',\n",
       " 'Poland',\n",
       " 'Australia',\n",
       " 'Czech Republic',\n",
       " 'USA',\n",
       " 'USA',\n",
       " 'USA',\n",
       " 'USA',\n",
       " 'USA',\n",
       " 'Portugal',\n",
       " 'France',\n",
       " 'Chile',\n",
       " 'India',\n",
       " 'Brazil',\n",
       " 'Canada',\n",
       " 'Austria',\n",
       " 'Brazil',\n",
       " 'USA',\n",
       " 'Germany',\n",
       " 'Germany',\n",
       " 'France',\n",
       " 'France',\n",
       " 'Hungary',\n",
       " 'Sweden',\n",
       " 'Brazil',\n",
       " 'Canada',\n",
       " 'USA',\n",
       " 'USA',\n",
       " 'USA',\n",
       " 'USA',\n",
       " 'Canada',\n",
       " 'France',\n",
       " 'United Kingdom',\n",
       " 'United Kingdom',\n",
       " 'Argentina',\n",
       " 'India',\n",
       " 'Canada',\n",
       " 'Denmark',\n",
       " 'USA',\n",
       " 'Canada',\n",
       " 'Canada',\n",
       " 'Portugal',\n",
       " 'Germany',\n",
       " 'France',\n",
       " 'Italy',\n",
       " 'Argentina',\n",
       " 'Brazil',\n",
       " 'Brazil',\n",
       " 'Canada',\n",
       " 'USA',\n",
       " 'USA',\n",
       " 'USA',\n",
       " 'Portugal',\n",
       " 'Poland',\n",
       " 'Spain',\n",
       " 'United Kingdom',\n",
       " 'United Kingdom',\n",
       " 'India',\n",
       " 'Czech Republic',\n",
       " 'Canada',\n",
       " 'USA',\n",
       " 'Canada',\n",
       " 'Canada',\n",
       " 'Canada',\n",
       " 'Germany',\n",
       " 'France',\n",
       " 'United Kingdom',\n",
       " 'Austria',\n",
       " 'Belgium',\n",
       " 'Brazil',\n",
       " 'Brazil',\n",
       " 'USA',\n",
       " 'USA',\n",
       " 'Canada',\n",
       " 'Hungary',\n",
       " 'Ireland',\n",
       " 'Netherlands',\n",
       " 'Spain',\n",
       " 'United Kingdom',\n",
       " 'Brazil',\n",
       " 'Brazil',\n",
       " 'USA',\n",
       " 'USA',\n",
       " 'USA',\n",
       " 'Canada',\n",
       " 'Canada',\n",
       " 'France',\n",
       " 'Netherlands',\n",
       " 'Canada',\n",
       " 'Norway',\n",
       " 'Czech Republic',\n",
       " 'Belgium',\n",
       " 'Brazil',\n",
       " 'USA',\n",
       " 'USA',\n",
       " 'France',\n",
       " 'France',\n",
       " 'Finland',\n",
       " 'Ireland',\n",
       " 'Spain',\n",
       " 'Argentina',\n",
       " 'Czech Republic',\n",
       " 'USA',\n",
       " 'USA',\n",
       " 'USA',\n",
       " 'USA',\n",
       " 'Canada',\n",
       " 'Portugal',\n",
       " 'Finland',\n",
       " 'India']"
      ]
     },
     "execution_count": 13,
     "metadata": {},
     "output_type": "execute_result"
    }
   ],
   "source": [
    "# List all of the countries found in the invoices table\n",
    "countries = session.query(Invoices.BillingCountry).all()\n",
    "all_countries = list(np.ravel(countries))\n",
    "all_countries"
   ]
  },
  {
   "cell_type": "code",
   "execution_count": 16,
   "metadata": {
    "deletable": false,
    "nbgrader": {
     "checksum": "bcf5656ccaf5b175d104f4bbd2b4dd6b",
     "grade": false,
     "grade_id": "cell-4feed124c0f54f43",
     "locked": false,
     "schema_version": 1,
     "solution": true
    }
   },
   "outputs": [
    {
     "data": {
      "text/plain": [
       "[('USA', Decimal('523.06')),\n",
       " ('Canada', Decimal('303.96')),\n",
       " ('France', Decimal('195.10')),\n",
       " ('Brazil', Decimal('190.10')),\n",
       " ('Germany', Decimal('156.48')),\n",
       " ('United Kingdom', Decimal('112.86')),\n",
       " ('Czech Republic', Decimal('90.24')),\n",
       " ('Portugal', Decimal('77.24')),\n",
       " ('India', Decimal('75.26')),\n",
       " ('Chile', Decimal('46.62')),\n",
       " ('Hungary', Decimal('45.62')),\n",
       " ('Ireland', Decimal('45.62')),\n",
       " ('Austria', Decimal('42.62')),\n",
       " ('Finland', Decimal('41.62')),\n",
       " ('Netherlands', Decimal('40.62')),\n",
       " ('Norway', Decimal('39.62')),\n",
       " ('Sweden', Decimal('38.62')),\n",
       " ('Argentina', Decimal('37.62')),\n",
       " ('Australia', Decimal('37.62')),\n",
       " ('Denmark', Decimal('37.62')),\n",
       " ('Italy', Decimal('37.62')),\n",
       " ('Poland', Decimal('37.62')),\n",
       " ('Belgium', Decimal('37.62')),\n",
       " ('Spain', Decimal('37.62'))]"
      ]
     },
     "execution_count": 16,
     "metadata": {},
     "output_type": "execute_result"
    }
   ],
   "source": [
    "# Design a query that lists the invoices totals for each billing country \n",
    "# and sort the output in descending order.\n",
    "session.query(Invoices.BillingCountry, func.sum(Invoices.Total)).\\\n",
    "    group_by(Invoices.BillingCountry).\\\n",
    "    order_by(func.sum(Invoices.Total).desc()).\\\n",
    "    all()\n"
   ]
  },
  {
   "cell_type": "code",
   "execution_count": 17,
   "metadata": {
    "deletable": false,
    "nbgrader": {
     "checksum": "ce836218c36115d86ac0556cae44b4f1",
     "grade": false,
     "grade_id": "cell-e9cdc46eb1a16b7b",
     "locked": false,
     "schema_version": 1,
     "solution": true
    }
   },
   "outputs": [],
   "source": [
    "# Save a reference to the invoice_items table as `Items`\n",
    "Items = Base.classes.invoice_items\n"
   ]
  },
  {
   "cell_type": "code",
   "execution_count": 19,
   "metadata": {
    "deletable": false,
    "nbgrader": {
     "checksum": "e4300624c55fd732893cd80f6cea454d",
     "grade": false,
     "grade_id": "cell-0a9629333439cef4",
     "locked": false,
     "schema_version": 1,
     "solution": true
    }
   },
   "outputs": [
    {
     "data": {
      "text/plain": [
       "[('10012-2612'),\n",
       " ('2113'),\n",
       " ('32801'),\n",
       " ('53703'),\n",
       " ('60611'),\n",
       " ('76110'),\n",
       " ('84102'),\n",
       " ('85719'),\n",
       " ('89503'),\n",
       " ('94040-111'),\n",
       " ('94043-1351'),\n",
       " ('95014'),\n",
       " ('98052-8300')]"
      ]
     },
     "execution_count": 19,
     "metadata": {},
     "output_type": "execute_result"
    }
   ],
   "source": [
    "# List all of the Billing Postal Codes for the USA.\n",
    "session.query(Invoices.BillingPostalCode).\\\n",
    "    filter(Invoices.BillingCountry == \"USA\").\\\n",
    "    group_by(Invoices.BillingPostalCode).\\\n",
    "    all()"
   ]
  },
  {
   "cell_type": "code",
   "execution_count": 21,
   "metadata": {
    "deletable": false,
    "nbgrader": {
     "checksum": "7d7750334aa78f3613176da2c4563e81",
     "grade": false,
     "grade_id": "cell-a2cbfd30ace44821",
     "locked": false,
     "schema_version": 1,
     "solution": true
    }
   },
   "outputs": [
    {
     "data": {
      "text/plain": [
       "Decimal('523.0600000000')"
      ]
     },
     "execution_count": 21,
     "metadata": {},
     "output_type": "execute_result"
    }
   ],
   "source": [
    "# Calculate the Item Totals (sum(UnitPrice * Quantity)) for the USA\n",
    "session.query(func.sum(Items.UnitPrice * Items.Quantity)).\\\n",
    "    filter(Invoices.InvoiceId == Items.InvoiceId).\\\n",
    "    filter(Invoices.BillingCountry == \"USA\").scalar()\n"
   ]
  },
  {
   "cell_type": "code",
   "execution_count": 25,
   "metadata": {
    "deletable": false,
    "nbgrader": {
     "checksum": "8fcc1cf686ccc8f054a06bb19e3bfa22",
     "grade": false,
     "grade_id": "cell-04614f479d1ab21b",
     "locked": false,
     "schema_version": 1,
     "solution": true
    }
   },
   "outputs": [
    {
     "data": {
      "text/plain": [
       "[('76110', Decimal('47.6200000000')),\n",
       " ('60611', Decimal('43.6200000000')),\n",
       " ('84102', Decimal('43.6200000000')),\n",
       " ('53703', Decimal('42.6200000000')),\n",
       " ('94040-111', Decimal('39.6200000000')),\n",
       " ('32801', Decimal('39.6200000000')),\n",
       " ('98052-8300', Decimal('39.6200000000')),\n",
       " ('95014', Decimal('38.6200000000')),\n",
       " ('10012-2612', Decimal('37.6200000000')),\n",
       " ('2113', Decimal('37.6200000000')),\n",
       " ('85719', Decimal('37.6200000000')),\n",
       " ('89503', Decimal('37.6200000000')),\n",
       " ('94043-1351', Decimal('37.6200000000'))]"
      ]
     },
     "execution_count": 25,
     "metadata": {},
     "output_type": "execute_result"
    }
   ],
   "source": [
    "# Calculate the Item Totals `sum(UnitPrice * Quantity)` for each Billing Postal Code in the USA\n",
    "# Sort the results in descending order by Total\n",
    "session.query(Invoices.BillingPostalCode, func.sum(Items.UnitPrice * Items.Quantity)).\\\n",
    "    filter(Invoices.InvoiceId == Items.InvoiceId).\\\n",
    "    filter(Invoices.BillingCountry == \"USA\").\\\n",
    "    group_by(Invoices.BillingPostalCode).\\\n",
    "    order_by(func.sum(Items.UnitPrice * Items.Quantity).desc()).all()"
   ]
  },
  {
   "cell_type": "code",
   "execution_count": null,
   "metadata": {},
   "outputs": [],
   "source": []
  }
 ],
 "metadata": {
  "kernelspec": {
   "display_name": "Python [conda env:PythonData]",
   "language": "python",
   "name": "conda-env-PythonData-py"
  },
  "language_info": {
   "codemirror_mode": {
    "name": "ipython",
    "version": 3
   },
   "file_extension": ".py",
   "mimetype": "text/x-python",
   "name": "python",
   "nbconvert_exporter": "python",
   "pygments_lexer": "ipython3",
   "version": "3.6.5"
  },
  "varInspector": {
   "cols": {
    "lenName": 16,
    "lenType": 16,
    "lenVar": 40
   },
   "kernels_config": {
    "python": {
     "delete_cmd_postfix": "",
     "delete_cmd_prefix": "del ",
     "library": "var_list.py",
     "varRefreshCmd": "print(var_dic_list())"
    },
    "r": {
     "delete_cmd_postfix": ") ",
     "delete_cmd_prefix": "rm(",
     "library": "var_list.r",
     "varRefreshCmd": "cat(var_dic_list()) "
    }
   },
   "types_to_exclude": [
    "module",
    "function",
    "builtin_function_or_method",
    "instance",
    "_Feature"
   ],
   "window_display": false
  }
 },
 "nbformat": 4,
 "nbformat_minor": 2
}
