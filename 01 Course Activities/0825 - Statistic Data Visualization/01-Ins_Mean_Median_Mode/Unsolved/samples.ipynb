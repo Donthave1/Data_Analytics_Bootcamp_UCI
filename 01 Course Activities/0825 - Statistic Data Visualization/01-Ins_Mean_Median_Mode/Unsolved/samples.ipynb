{
 "cells": [
  {
   "cell_type": "code",
   "execution_count": 1,
   "metadata": {},
   "outputs": [],
   "source": [
    "from stats import mean, median, mode, multi_mode"
   ]
  },
  {
   "cell_type": "code",
   "execution_count": 2,
   "metadata": {},
   "outputs": [
    {
     "name": "stdout",
     "output_type": "stream",
     "text": [
      "Median Price: 425\n"
     ]
    }
   ],
   "source": [
    "# Prices of random electronics at Best Buy\n",
    "prices = [4, 425, 984, 2932, 49]\n",
    "print(f\"Median Price: {median(prices)}\")"
   ]
  },
  {
   "cell_type": "code",
   "execution_count": 4,
   "metadata": {},
   "outputs": [
    {
     "name": "stdout",
     "output_type": "stream",
     "text": [
      "Mean Bootcamp Ages: 36.666666666666664\n",
      "Median Bootcamp Ages: 35.5\n"
     ]
    }
   ],
   "source": [
    "# Ages of students in bootcamp\n",
    "bootcamp_classroom_ages = [27, 35, 42, 52, 36, 28]\n",
    "print(f\"Mean Bootcamp Ages: {mean(bootcamp_classroom_ages)}\")\n",
    "print(f\"Median Bootcamp Ages: {median(bootcamp_classroom_ages)}\")"
   ]
  },
  {
   "cell_type": "code",
   "execution_count": 5,
   "metadata": {},
   "outputs": [
    {
     "name": "stdout",
     "output_type": "stream",
     "text": [
      "Mode od Birthday Party Ages: (6, 3)\n"
     ]
    }
   ],
   "source": [
    "# Ages of children and parents at child's party\n",
    "birthday_party_ages = [6, 5, 6, 6, 35, 34, 42]\n",
    "print(f\"Mode od Birthday Party Ages: {mode(birthday_party_ages)}\")"
   ]
  },
  {
   "cell_type": "code",
   "execution_count": 9,
   "metadata": {},
   "outputs": [
    {
     "name": "stdout",
     "output_type": "stream",
     "text": [
      "Mean of Geo Grades: 91.0\n"
     ]
    }
   ],
   "source": [
    "# Test score from a 2nd grade geography test\n",
    "geo_grades = [87, 89, 91, 93, 95]\n",
    "print(f\"Mean of Geo Grades: {mean(geo_grades)}\")"
   ]
  },
  {
   "cell_type": "code",
   "execution_count": 10,
   "metadata": {},
   "outputs": [
    {
     "name": "stdout",
     "output_type": "stream",
     "text": [
      "Median of QM Grades: 58\n",
      "Modes of QM Grades: [(13, 2), (63, 2)]\n"
     ]
    }
   ],
   "source": [
    "# Test scores from a graduate quantum mechanics midterm\n",
    "quantum_grades = [63, 63, 98, 13, 58, 13, 8]\n",
    "print(f\"Median of QM Grades: {median(quantum_grades)}\")\n",
    "print(f\"Modes of QM Grades: {multi_mode(quantum_grades)}\")"
   ]
  },
  {
   "cell_type": "code",
   "execution_count": null,
   "metadata": {},
   "outputs": [],
   "source": []
  }
 ],
 "metadata": {
  "kernelspec": {
   "display_name": "Python [conda env:PythonData]",
   "language": "python",
   "name": "conda-env-PythonData-py"
  },
  "language_info": {
   "codemirror_mode": {
    "name": "ipython",
    "version": 3
   },
   "file_extension": ".py",
   "mimetype": "text/x-python",
   "name": "python",
   "nbconvert_exporter": "python",
   "pygments_lexer": "ipython3",
   "version": "3.6.5"
  }
 },
 "nbformat": 4,
 "nbformat_minor": 2
}
