{
 "cells": [
  {
   "cell_type": "code",
   "execution_count": 4,
   "metadata": {},
   "outputs": [],
   "source": [
    "# Dependencies\n",
    "import matplotlib.pyplot as plt\n",
    "import numpy as np\n",
    "import pandas as pd\n",
    "from scipy.stats import ttest_ind"
   ]
  },
  {
   "cell_type": "code",
   "execution_count": 8,
   "metadata": {},
   "outputs": [],
   "source": [
    "# Read in data\n",
    "gen_heights = pd.read_csv(\"../Resources/general_heights.csv\")\n",
    "wba_data = pd.read_csv(\"../Resources/wba_data.csv\")\n",
    "wba_heights = wba_data.iloc[:, -1]"
   ]
  },
  {
   "cell_type": "code",
   "execution_count": 13,
   "metadata": {},
   "outputs": [],
   "source": [
    "# Run the t-test\n",
    "(t_stat, p) = ttest_ind(gen_heights, wba_heights, equal_var=False)"
   ]
  },
  {
   "cell_type": "code",
   "execution_count": 14,
   "metadata": {},
   "outputs": [
    {
     "name": "stdout",
     "output_type": "stream",
     "text": [
      "The mean height of WBA player is 72.32\n",
      "The mean height of women sampled is 64.68416666666667\n",
      "p is 3.147413627696938e-33\n",
      "The differences in the sample means is significant\n"
     ]
    }
   ],
   "source": [
    "# Report the data\n",
    "print(\"The mean height of WBA player is {}\".format(wba_heights.mean()))\n",
    "print(\"The mean height of women sampled is {}\".format(gen_heights.values.mean()))\n",
    "print(\"p is {}\".format(p[0]))\n",
    "if p < 0.05:\n",
    "    print(\"The differences in the sample means is significant\")\n",
    "else:\n",
    "    print(\"The differences in the sample means is not significant\")"
   ]
  },
  {
   "cell_type": "code",
   "execution_count": null,
   "metadata": {},
   "outputs": [],
   "source": [
    "# Plot sample means with error bars"
   ]
  },
  {
   "cell_type": "code",
   "execution_count": null,
   "metadata": {},
   "outputs": [],
   "source": [
    "# Plot mean height of players"
   ]
  },
  {
   "cell_type": "code",
   "execution_count": null,
   "metadata": {},
   "outputs": [],
   "source": []
  }
 ],
 "metadata": {
  "kernelspec": {
   "display_name": "Python [default]",
   "language": "python",
   "name": "python3"
  },
  "language_info": {
   "codemirror_mode": {
    "name": "ipython",
    "version": 3
   },
   "file_extension": ".py",
   "mimetype": "text/x-python",
   "name": "python",
   "nbconvert_exporter": "python",
   "pygments_lexer": "ipython3",
   "version": "3.6.5"
  }
 },
 "nbformat": 4,
 "nbformat_minor": 2
}
