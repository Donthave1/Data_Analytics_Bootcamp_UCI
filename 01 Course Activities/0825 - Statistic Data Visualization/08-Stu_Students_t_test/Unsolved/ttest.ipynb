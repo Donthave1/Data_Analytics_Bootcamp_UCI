{
 "cells": [
  {
   "cell_type": "code",
   "execution_count": 18,
   "metadata": {},
   "outputs": [],
   "source": [
    "# Dependencies\n",
    "import matplotlib.pyplot as plt\n",
    "import numpy as np\n",
    "import pandas as pd\n",
    "from scipy.stats import ttest_ind"
   ]
  },
  {
   "cell_type": "code",
   "execution_count": 19,
   "metadata": {},
   "outputs": [],
   "source": [
    "# Read in data\n",
    "gen_heights = pd.read_csv(\"../Resources/general_heights.csv\")\n",
    "wba_data = pd.read_csv(\"../Resources/wba_data.csv\")\n",
    "wba_heights = wba_data.iloc[:, -1]"
   ]
  },
  {
   "cell_type": "code",
   "execution_count": 20,
   "metadata": {},
   "outputs": [],
   "source": [
    "# Run the t-test\n",
    "(t_stat, p) = ttest_ind(gen_heights, wba_heights, equal_var=False)"
   ]
  },
  {
   "cell_type": "code",
   "execution_count": 21,
   "metadata": {},
   "outputs": [
    {
     "name": "stdout",
     "output_type": "stream",
     "text": [
      "The mean height of WBA player is 72.32\n",
      "The mean height of women sampled is 64.68416666666667\n",
      "p is 3.147413627696938e-33\n",
      "The differences in the sample means is significant\n"
     ]
    }
   ],
   "source": [
    "# Report the data\n",
    "print(\"The mean height of WBA player is {}\".format(wba_heights.mean()))\n",
    "print(\"The mean height of women sampled is {}\".format(gen_heights.values.mean()))\n",
    "print(\"p is {}\".format(p[0]))\n",
    "if p < 0.05:\n",
    "    print(\"The differences in the sample means is significant\")\n",
    "else:\n",
    "    print(\"The differences in the sample means is not significant\")"
   ]
  },
  {
   "cell_type": "code",
   "execution_count": 22,
   "metadata": {},
   "outputs": [],
   "source": [
    "# Plot sample means with error bars\n",
    "tick_labels = [\"General Public\", \"WBA Players\"]\n",
    "means = [gen_heights.mean().values[0], wba_heights.mean()]\n",
    "x_axis = np.arange(0, len(means))\n",
    "sem = [gen_heights.sem().values[0], wba_heights.sem()]"
   ]
  },
  {
   "cell_type": "code",
   "execution_count": 24,
   "metadata": {},
   "outputs": [
    {
     "data": {
      "text/plain": [
       "Text(0,0.5,'Height (Inches)')"
      ]
     },
     "execution_count": 24,
     "metadata": {},
     "output_type": "execute_result"
    },
    {
     "data": {
      "image/png": "[encoded data removed]",
      "text/plain": [
       "<Figure size 432x288 with 1 Axes>"
      ]
     },
     "metadata": {},
     "output_type": "display_data"
    }
   ],
   "source": [
    "# Plot mean height of players\n",
    "fig, ax = plt.subplots()\n",
    "fig.suptitle(\"Mean height of women in the general population and WBA Players\", \n",
    "            fontsize=12, fontweight=\"bold\")\n",
    "ax.errorbar(x_axis, means, sem, fmt=\"o\")\n",
    "ax.set_xlim(-0.5, 1.5)\n",
    "ax.set_ylim(64, 73)\n",
    "\n",
    "ax.set_xticklabels(tick_labels)\n",
    "ax.set_xticks([0, 1])\n",
    "\n",
    "ax.set_ylabel(\"Height (Inches)\")"
   ]
  },
  {
   "cell_type": "code",
   "execution_count": 25,
   "metadata": {},
   "outputs": [],
   "source": [
    "plt.show()"
   ]
  },
  {
   "cell_type": "code",
   "execution_count": null,
   "metadata": {},
   "outputs": [],
   "source": []
  }
 ],
 "metadata": {
  "kernelspec": {
   "display_name": "Python [default]",
   "language": "python",
   "name": "python3"
  },
  "language_info": {
   "codemirror_mode": {
    "name": "ipython",
    "version": 3
   },
   "file_extension": ".py",
   "mimetype": "text/x-python",
   "name": "python",
   "nbconvert_exporter": "python",
   "pygments_lexer": "ipython3",
   "version": "3.6.5"
  }
 },
 "nbformat": 4,
 "nbformat_minor": 2
}
