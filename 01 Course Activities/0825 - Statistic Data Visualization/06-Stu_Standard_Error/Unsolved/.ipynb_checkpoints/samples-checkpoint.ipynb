{
 "cells": [
  {
   "cell_type": "code",
   "execution_count": 5,
   "metadata": {},
   "outputs": [],
   "source": [
    "# Dependencies\n",
    "from matplotlib import pyplot as plt\n",
    "import numpy as np\n",
    "import pandas as pd\n",
    "from scipy.stats import sem"
   ]
  },
  {
   "cell_type": "code",
   "execution_count": 2,
   "metadata": {},
   "outputs": [],
   "source": [
    "# Read and shuffle data\n",
    "housing_data = pd.read_csv(\"../Resources/housing_data.csv\")\n",
    "housing_data = housing_data.sample(frac=1).reset_index(drop=True)"
   ]
  },
  {
   "cell_type": "code",
   "execution_count": 3,
   "metadata": {},
   "outputs": [],
   "source": [
    "# Create a bunch of samples, each with div items\n",
    "div = 20\n",
    "lim = len(housing_data) // div\n",
    "samples = [housing_data.iloc[(i * div):(i * div + div), 13]\n",
    "           for i in range(0, lim)]"
   ]
  },
  {
   "cell_type": "code",
   "execution_count": 7,
   "metadata": {},
   "outputs": [
    {
     "name": "stdout",
     "output_type": "stream",
     "text": [
      "[24.8, 21.205, 20.099999999999998, 22.330000000000005, 21.330000000000002, 22.32, 25.345000000000002, 22.229999999999997, 21.544999999999995, 21.595000000000006, 25.400000000000002, 21.32, 19.910000000000004, 21.849999999999998, 21.540000000000003, 21.650000000000002, 23.169999999999998, 24.835, 20.795, 23.624999999999996, 24.5, 25.315, 21.715000000000003, 21.335, 23.325]\n",
      "[2.212690669750293, 2.014767519565157, 1.739721695831655, 1.9540120669777699, 2.1492728268441224, 2.2593851049857743, 2.249964619604869, 2.10254357236282, 1.4517226609137592, 2.442059904864614, 2.0914865023407834, 2.554784984257868, 1.7881613609044287, 1.7096398512706212, 2.1860972193915753, 1.3144640692973255, 2.110039909824606, 2.2590901172584363, 2.3156160371656926, 1.873244792500857, 1.9087058167084947, 2.5194744126086044, 2.175271005499871, 1.596118235298573, 2.3716957624184607]\n"
     ]
    }
   ],
   "source": [
    "#find the mean of each samples\n",
    "means = [np.mean(s) for s in samples]\n",
    "print(means)"
   ]
  },
  {
   "cell_type": "code",
   "execution_count": null,
   "metadata": {},
   "outputs": [],
   "source": [
    "#find standard errors of each samples\n",
    "standard_errors = [sem(s) for s in samples]\n",
    "print(standard_errors)"
   ]
  }
 ],
 "metadata": {
  "kernelspec": {
   "display_name": "Python [default]",
   "language": "python",
   "name": "python3"
  },
  "language_info": {
   "codemirror_mode": {
    "name": "ipython",
    "version": 3
   },
   "file_extension": ".py",
   "mimetype": "text/x-python",
   "name": "python",
   "nbconvert_exporter": "python",
   "pygments_lexer": "ipython3",
   "version": "3.6.5"
  }
 },
 "nbformat": 4,
 "nbformat_minor": 2
}
