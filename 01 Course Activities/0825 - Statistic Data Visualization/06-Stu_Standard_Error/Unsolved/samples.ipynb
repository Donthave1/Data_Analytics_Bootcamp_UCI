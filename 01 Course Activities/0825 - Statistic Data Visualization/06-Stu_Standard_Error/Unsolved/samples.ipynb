{
 "cells": [
  {
   "cell_type": "code",
   "execution_count": 1,
   "metadata": {},
   "outputs": [],
   "source": [
    "# Dependencies\n",
    "from matplotlib import pyplot as plt\n",
    "import numpy as np\n",
    "import pandas as pd\n",
    "from scipy.stats import sem"
   ]
  },
  {
   "cell_type": "code",
   "execution_count": 2,
   "metadata": {},
   "outputs": [],
   "source": [
    "# Read and shuffle data\n",
    "housing_data = pd.read_csv(\"../Resources/housing_data.csv\")\n",
    "housing_data = housing_data.sample(frac=1).reset_index(drop=True)"
   ]
  },
  {
   "cell_type": "code",
   "execution_count": 8,
   "metadata": {},
   "outputs": [],
   "source": [
    "# Create a bunch of samples, each with div items\n",
    "div = 20\n",
    "lim = len(housing_data) // div\n",
    "samples = [housing_data.iloc[(i * div):(i * div + div), 13]\n",
    "           for i in range(0, lim)]\n",
    "x_axis = np.arange(0, len(samples), 1)"
   ]
  },
  {
   "cell_type": "code",
   "execution_count": 9,
   "metadata": {},
   "outputs": [
    {
     "name": "stdout",
     "output_type": "stream",
     "text": [
      "[19.04, 23.424999999999994, 21.485000000000003, 22.890000000000004, 24.845000000000006, 24.659999999999997, 24.365000000000002, 25.79, 20.595000000000006, 21.124999999999996, 21.135, 19.99, 20.115000000000002, 22.509999999999998, 22.395000000000003, 23.275, 20.495, 20.095000000000002, 21.37, 22.080000000000002, 20.445, 24.605000000000008, 26.284999999999997, 26.244999999999997, 24.78]\n"
     ]
    }
   ],
   "source": [
    "#find the mean of each samples\n",
    "means = [np.mean(s) for s in samples]\n",
    "print(means)"
   ]
  },
  {
   "cell_type": "code",
   "execution_count": 10,
   "metadata": {
    "scrolled": true
   },
   "outputs": [
    {
     "name": "stdout",
     "output_type": "stream",
     "text": [
      "[1.835905054304566, 2.014446182217989, 1.4442859280991636, 2.2804881748848147, 2.5221802911474485, 2.5014564178746577, 2.851797909352883, 2.2925611970251225, 1.6693754741472067, 1.415866389027915, 1.7984975454675025, 1.47633793022144, 1.945903592029596, 1.106271595091035, 2.012179690103038, 2.170215548353617, 1.9872021458374718, 1.2943698934433816, 2.228229176534114, 1.3930579766527271, 2.1859657025286507, 2.7829695896366, 2.744422813443178, 2.18986270898669, 2.003951359846735]\n"
     ]
    }
   ],
   "source": [
    "#find standard errors of each samples\n",
    "standard_errors = [sem(s) for s in samples]\n",
    "print(standard_errors)"
   ]
  },
  {
   "cell_type": "code",
   "execution_count": 13,
   "metadata": {},
   "outputs": [
    {
     "data": {
      "text/plain": [
       "Text(0,0.5,'Median of House Prices')"
      ]
     },
     "execution_count": 13,
     "metadata": {},
     "output_type": "execute_result"
    },
    {
     "data": {
      "image/png": "[encoded data removed]",
      "text/plain": [
       "<Figure size 432x288 with 1 Axes>"
      ]
     },
     "metadata": {},
     "output_type": "display_data"
    }
   ],
   "source": [
    "fig, ax = plt.subplots()\n",
    "ax.errorbar(x_axis, means, standard_errors, fmt=\"o\")\n",
    "ax.set_xlim(-1, len(samples)+1)\n",
    "ax.set_xlabel(\"Sample Number\")\n",
    "ax.set_ylabel(\"Median of House Prices\")"
   ]
  },
  {
   "cell_type": "code",
   "execution_count": null,
   "metadata": {},
   "outputs": [],
   "source": []
  }
 ],
 "metadata": {
  "kernelspec": {
   "display_name": "Python [conda env:PythonData]",
   "language": "python",
   "name": "conda-env-PythonData-py"
  },
  "language_info": {
   "codemirror_mode": {
    "name": "ipython",
    "version": 3
   },
   "file_extension": ".py",
   "mimetype": "text/x-python",
   "name": "python",
   "nbconvert_exporter": "python",
   "pygments_lexer": "ipython3",
   "version": "3.6.5"
  }
 },
 "nbformat": 4,
 "nbformat_minor": 2
}
