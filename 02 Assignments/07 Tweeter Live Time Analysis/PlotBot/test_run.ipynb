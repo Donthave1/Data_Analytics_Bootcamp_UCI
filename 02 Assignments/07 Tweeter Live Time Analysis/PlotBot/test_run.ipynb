{
 "cells": [
  {
   "cell_type": "code",
   "execution_count": 3,
   "metadata": {},
   "outputs": [],
   "source": [
    "# Dependencies\n",
    "import tweepy\n",
    "import time\n",
    "import numpy as np \n",
    "import pandas as pd\n",
    "from datetime import datetime\n",
    "import matplotlib.pyplot as plt\n",
    "from matplotlib import style\n",
    "style.use(\"ggplot\")\n",
    "\n",
    "# Import and Initialize Sentiment Analyzer\n",
    "from vaderSentiment.vaderSentiment import SentimentIntensityAnalyzer\n",
    "analyzer = SentimentIntensityAnalyzer()"
   ]
  },
  {
   "cell_type": "code",
   "execution_count": 2,
   "metadata": {},
   "outputs": [],
   "source": [
    "# Twitter API Keys\n",
    "from config import (consumer_key, \n",
    "                    consumer_secret, \n",
    "                    access_token, \n",
    "                    access_token_secret)\n",
    "\n",
    "# Setup Tweepy API Authentication\n",
    "auth = tweepy.OAuthHandler(consumer_key, consumer_secret)\n",
    "auth.set_access_token(access_token, access_token_secret)\n",
    "api = tweepy.API(auth, parser=tweepy.parsers.JSONParser())"
   ]
  },
  {
   "cell_type": "code",
   "execution_count": 4,
   "metadata": {},
   "outputs": [],
   "source": [
    "#grab first mention\n",
    "    twitter_handle = '' # twitter handle for twitterbot\n",
    "    mentions = api.search(q=f\"@{twitter_handle} Analyze:\")\n"
   ]
  },
  {
   "cell_type": "code",
   "execution_count": null,
   "metadata": {},
   "outputs": [],
   "source": [
    "# input tweet\n",
    "word = []\n",
    "# twitter account\n",
    "target_account = []\n"
   ]
  },
  {
   "cell_type": "code",
   "execution_count": null,
   "metadata": {},
   "outputs": [],
   "source": [
    "# grab tweet\n",
    "    tweet = mentions[\"statuses\"][0][\"text\"]\n",
    "    requestion_user = mentions[\"statuses\"][0][\"user\"][\"screen_name\"]\n"
   ]
  },
  {
   "cell_type": "code",
   "execution_count": null,
   "metadata": {},
   "outputs": [],
   "source": [
    "# parse out target accounts that we want to analyze\n",
    "    try:\n",
    "        word = tweet.split(\"Analyze:\")\n",
    "        possible_target_accounts = word[1].split()\n",
    "        # make sure no duplicates\n",
    "        for account in possible_target_accounts:\n",
    "            if account not in target_account:\n",
    "                target_account.append(account)\n",
    "    except:\n",
    "        print(\"error\")\n"
   ]
  },
  {
   "cell_type": "code",
   "execution_count": null,
   "metadata": {},
   "outputs": [],
   "source": [
    " # grab tweets from target accounts\n",
    "    tweet_data = []\n",
    "    for account in target_account:\n",
    "        for x in range(5):\n",
    "            tweets = api.user_timeline(account, page=x)\n",
    "\n",
    "            # parse the tweet\n",
    "            for tweet in tweets:\n",
    "                # analyze tweet with vader\n",
    "                # create df with tweet_data\n",
    "                # plot tweet data and save image as png\n",
    "                "
   ]
  },
  {
   "cell_type": "code",
   "execution_count": null,
   "metadata": {},
   "outputs": [],
   "source": [
    "# Target Search Term\n",
    "target_terms = (\"@BBCWorld\", \"@CBSNews\", \"@CNN\", \"@FoxNews\", \"@nytimes\")\n",
    "\n",
    "# List to hold sentiment\n",
    "results_list = []\n",
    "\n",
    "# Loop through all target users\n",
    "for target in target_terms:\n",
    "\n",
    "    # Variable for holding the oldest tweet\n",
    "    oldest_tweet = None\n",
    "    \n",
    "    counter = 0\n",
    "\n",
    "    # Variables for holding sentiments\n",
    "    compound_list = []\n",
    "    positive_list = []\n",
    "    negative_list = []\n",
    "    neutral_list = []\n",
    "\n",
    "\n",
    "    # Loop through 5 times\n",
    "    for x in range(5):\n",
    "\n",
    "        # Run search around each tweet\n",
    "        public_tweets = api.search(target, count=100, result_type=\"recent\", max_id=oldest_tweet)\n",
    "\n",
    "        # Loop through all tweets\n",
    "        for tweet in public_tweets[\"statuses\"]:\n",
    "\n",
    "            # Use filters to check if user meets conditions\n",
    "            if (filter_human(tweet[\"user\"])):\n",
    "                \n",
    "                # Convert time stamps to readable format\n",
    "                converted_time = datetime.strptime(tweet[\"created_at\"], \"%a %b %d %H:%M:%S %z %Y\")\n",
    "                \n",
    "                # Run Vader Analysis on each tweet\n",
    "                results = analyzer.polarity_scores(tweet[\"text\"])\n",
    "                results_list.append({\n",
    "                    \"User\": target,\n",
    "                    \"Tweet Timestamps\": converted_time,\n",
    "                    \"Compound\": results[\"compound\"],\n",
    "                    \"Positive\": results[\"pos\"],\n",
    "                    \"Negative\": results[\"neg\"],\n",
    "                    \"Neutral\": results[\"neu\"],\n",
    "                    \"Tweets Ago\": counter\n",
    "                    })\n",
    "\n",
    "            # Set the new oldest_tweet value\n",
    "            oldest_tweet = tweet[\"id\"] - 1\n",
    "            \n",
    "            counter += 1\n",
    "\n",
    "# Create a DataFrame using results_list and display\n",
    "news_df = pd.DataFrame().from_dict(results_list)\n",
    "news_df = news_df[[\"User\", \"Tweet Timestamps\", \"Compound\", \"Positive\", \"Negative\", \"Neutral\", \"Tweets Ago\"]]\n",
    "news_df.head(10)\n"
   ]
  },
  {
   "cell_type": "code",
   "execution_count": null,
   "metadata": {},
   "outputs": [],
   "source": [
    "# Define variable/limit first\n",
    "now = datetime.now()\n",
    "now = now.strftime(\"%Y-%m-%d\")\n",
    "plt.title(f\"Sentiment Analysis of Media Tweets ({now})\")\n",
    "plt.xlabel(\"Tweets Ago\")\n",
    "plt.ylabel(\"Tweet Polarity\")\n",
    "\n",
    "# Create scatter plot graph\n",
    "plt.scatter(bbcworld_x, bbcworld_y, marker=\"o\", color=\"lightblue\", edgecolors=\"k\", label=\"@BBCWorld\")\n",
    "plt.scatter(cbsnews_x, cbsnews_y, marker=\"o\", color=\"green\", edgecolors=\"k\", label=\"@CBSNews\")\n",
    "plt.scatter(cnn_x, cnn_y, marker=\"o\", color=\"red\", edgecolors=\"k\", label=\"@CNN\")\n",
    "plt.scatter(foxnews_x, foxnews_y, marker=\"o\", color=\"blue\", edgecolors=\"k\", label=\"@FoxNews\")\n",
    "plt.scatter(nytimes_x, nytimes_y, marker=\"o\", color=\"yellow\", edgecolors=\"k\", label=\"@nytimes\")\n",
    "\n",
    "plt.legend(title=\"Media Sources\", loc=\"center left\", bbox_to_anchor=(1, 0.5))\n",
    "\n",
    "plt.savefig(\"Images/Sentiment Analysis of Media Tweets.png\", bbox_inches = \"tight\")\n"
   ]
  },
  {
   "cell_type": "code",
   "execution_count": null,
   "metadata": {},
   "outputs": [],
   "source": [
    "x_vals = airline_df[\"Tweets Ago\"]\n",
    "y_vals = airline_df[\"Compound\"]\n",
    "plt.plot(x_vals, y_vals, marker=\"o\", linewidth=0.5, alpha=0.8)\n",
    "\n",
    "now = datetime.now()\n",
    "now = now.strftime(\"%Y-%m-%d %H:%M\")\n",
    "plt.title(f\"Sentiment Analysis of Tweets({now}) for {target}\")\n",
    "plt.xlim([x_vals.max(), x_vals.min()])\n",
    "plt.ylabel(\"Tweet Polarity\")\n",
    "plt.xlabel(\"Tweets Ago\")\n",
    "plt.show()\n"
   ]
  },
  {
   "cell_type": "code",
   "execution_count": null,
   "metadata": {},
   "outputs": [],
   "source": [
    "# update twitter account with analysis\n",
    "                api.update_with_media(filepath, \"Text to go in tweet here (maybe mention the person that sent the tweet\")\n"
   ]
  },
  {
   "cell_type": "code",
   "execution_count": null,
   "metadata": {},
   "outputs": [],
   "source": [
    "double_check = True                \n",
    "while(double_check == True):\n",
    "    AnalyzeTweets()\n",
    "    time.sleep(5)\n",
    "    user_input = input(\"Would you like to continue?\")\n",
    "    if user_input != \"y\":\n",
    "        double_check = False\n"
   ]
  }
 ],
 "metadata": {
  "kernelspec": {
   "display_name": "Python [conda env:PythonData]",
   "language": "python",
   "name": "conda-env-PythonData-py"
  },
  "language_info": {
   "codemirror_mode": {
    "name": "ipython",
    "version": 3
   },
   "file_extension": ".py",
   "mimetype": "text/x-python",
   "name": "python",
   "nbconvert_exporter": "python",
   "pygments_lexer": "ipython3",
   "version": "3.6.5"
  }
 },
 "nbformat": 4,
 "nbformat_minor": 2
}
