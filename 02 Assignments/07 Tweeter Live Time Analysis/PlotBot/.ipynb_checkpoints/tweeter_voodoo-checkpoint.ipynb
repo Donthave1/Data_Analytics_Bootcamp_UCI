{
 "cells": [
  {
   "cell_type": "code",
   "execution_count": null,
   "metadata": {},
   "outputs": [],
   "source": [
    "# Dependencies\n",
    "import tweepy\n",
    "import time\n",
    "import numpy as np \n",
    "import pandas as pd\n",
    "from datetime import datetime\n",
    "import matplotlib.pyplot as plt\n",
    "from matplotlib import style\n",
    "style.use(\"ggplot\")\n",
    "\n",
    "# Import and Initialize Sentiment Analyzer\n",
    "from vaderSentiment.vaderSentiment import SentimentIntensityAnalyzer\n",
    "analyzer = SentimentIntensityAnalyzer()"
   ]
  },
  {
   "cell_type": "code",
   "execution_count": null,
   "metadata": {},
   "outputs": [],
   "source": [
    "# Twitter API Keys\n",
    "from config import (consumer_key, \n",
    "                    consumer_secret, \n",
    "                    access_token, \n",
    "                    access_token_secret)\n",
    "\n",
    "# Setup Tweepy API Authentication\n",
    "auth = tweepy.OAuthHandler(consumer_key, consumer_secret)\n",
    "auth.set_access_token(access_token, access_token_secret)\n",
    "api = tweepy.API(auth, parser=tweepy.parsers.JSONParser())\n",
    "\n"
   ]
  },
  {
   "cell_type": "code",
   "execution_count": null,
   "metadata": {},
   "outputs": [],
   "source": [
    "# Search for bot mention\n",
    "def get_mention():\n",
    "    return api.search(q=\"@NB_ED4ever perform voodoo on \")"
   ]
  },
  {
   "cell_type": "code",
   "execution_count": null,
   "metadata": {},
   "outputs": [],
   "source": [
    "# bot return\n",
    "mentions = get_mention()\n",
    "\n",
    "# Store tweet\n",
    "tweet = mentions[\"statuses\"][0][\"text\"]\n",
    "#print(tweet)\n",
    "\n",
    "# Billing\n",
    "requested_user = mentions[\"statuses\"][0][\"user\"][\"screen_name\"]"
   ]
  },
  {
   "cell_type": "code",
   "execution_count": null,
   "metadata": {},
   "outputs": [],
   "source": [
    "# Store tweet text\n",
    "stored_tweet = []\n",
    "\n",
    "# twitter account\n",
    "target_users = []\n",
    "\n",
    "# Parse out target user handle to analyze\n",
    "try:\n",
    "    stored_tweet = tweet.split(\" perform voodoo on \")\n",
    "    possible_target_accounts = stored_tweet[1].split()\n",
    "    for user in possible_target_accounts:\n",
    "        # Make sure no duplicate user\n",
    "        if user not in target_users:\n",
    "            target_users.append(user)\n",
    "except:\n",
    "    print(\"Not Enough Mana...\")\n",
    "\n",
    "#print(target_users)"
   ]
  },
  {
   "cell_type": "code",
   "execution_count": null,
   "metadata": {},
   "outputs": [],
   "source": [
    "# List to hold sentiment\n",
    "results_list = []\n",
    "\n",
    "# Loop through all target users\n",
    "for target in target_users:\n",
    "\n",
    "    # Variable for holding the oldest tweet\n",
    "    oldest_tweet = None\n",
    "    \n",
    "    counter = 0\n",
    "\n",
    "    # Variables for holding sentiments\n",
    "    compound_list = []\n",
    "    positive_list = []\n",
    "    negative_list = []\n",
    "    neutral_list = []\n",
    "\n",
    "\n",
    "    # Loop through 5 times\n",
    "    for x in range(5):\n",
    "\n",
    "        # Run search around each tweet\n",
    "        public_tweets = api.search(target, count=100, result_type=\"recent\", max_id=oldest_tweet)\n",
    "\n",
    "        # Loop through all tweets\n",
    "        for tweet in public_tweets[\"statuses\"]:\n",
    "\n",
    "            # Convert time stamps to readable format\n",
    "            converted_time = datetime.strptime(tweet[\"created_at\"], \"%a %b %d %H:%M:%S %z %Y\")\n",
    "\n",
    "            # Run Vader Analysis on each tweet\n",
    "            results = analyzer.polarity_scores(tweet[\"text\"])\n",
    "            results_list.append({\n",
    "                \"User\": target,\n",
    "                \"Tweet Timestamps\": converted_time,\n",
    "                \"Compound\": results[\"compound\"],\n",
    "                \"Positive\": results[\"pos\"],\n",
    "                \"Negative\": results[\"neg\"],\n",
    "                \"Neutral\": results[\"neu\"],\n",
    "                \"Tweets Ago\": counter\n",
    "                })\n",
    "\n",
    "            # Set the new oldest_tweet value\n",
    "            oldest_tweet = tweet[\"id\"] - 1\n",
    "            \n",
    "            counter += 1\n",
    "\n",
    "# Create a DataFrame using results_list and display\n",
    "victim_df = pd.DataFrame().from_dict(results_list)\n",
    "victim_df = victim_df[[\"User\", \"Tweet Timestamps\", \"Compound\", \"Positive\", \"Negative\", \"Neutral\", \"Tweets Ago\"]]\n",
    "victim_df.head(10)"
   ]
  },
  {
   "cell_type": "code",
   "execution_count": null,
   "metadata": {},
   "outputs": [],
   "source": [
    "x_vals = victim_df[\"Tweets Ago\"]\n",
    "y_vals = victim_df[\"Compound\"]\n",
    "plt.plot(x_vals, y_vals, marker=\"o\", color=\"purple\", linewidth=0.5, alpha=0.8)\n",
    "\n",
    "now = datetime.now()\n",
    "now = now.strftime(\"%Y-%m-%d %H:%M\")\n",
    "plt.title(f\"Sentiment Analysis of {target} Tweets at {now}\")\n",
    "plt.xlim([x_vals.max(), x_vals.min()])\n",
    "plt.ylabel(\"Tweet Polarity\")\n",
    "plt.xlabel(\"Tweets Ago\")\n",
    "\n",
    "plt.savefig(\"Images/voodoodust.png\", bbox_inches = \"tight\")"
   ]
  },
  {
   "cell_type": "code",
   "execution_count": null,
   "metadata": {},
   "outputs": [],
   "source": [
    "# update twitter account with analysis\n",
    "api.update_with_media(\"Images/voodoodust.png\", f\"Here you go @{requested_user}, this will cost you 1 gummy bear\")"
   ]
  },
  {
   "cell_type": "code",
   "execution_count": null,
   "metadata": {},
   "outputs": [],
   "source": [
    "double_check = True                \n",
    "while(double_check == True):\n",
    "    get_mention()\n",
    "    time.sleep(120)\n",
    "    user_input = input(\"Would you like to continue? y/n\")\n",
    "    if user_input != \"y\":\n",
    "        double_check = False"
   ]
  },
  {
   "cell_type": "code",
   "execution_count": null,
   "metadata": {},
   "outputs": [],
   "source": []
  }
 ],
 "metadata": {
  "kernelspec": {
   "display_name": "Python [conda env:PythonData]",
   "language": "python",
   "name": "conda-env-PythonData-py"
  },
  "language_info": {
   "codemirror_mode": {
    "name": "ipython",
    "version": 3
   },
   "file_extension": ".py",
   "mimetype": "text/x-python",
   "name": "python",
   "nbconvert_exporter": "python",
   "pygments_lexer": "ipython3",
   "version": "3.6.5"
  }
 },
 "nbformat": 4,
 "nbformat_minor": 2
}
