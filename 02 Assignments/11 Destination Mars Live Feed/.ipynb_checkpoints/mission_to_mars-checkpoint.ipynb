{
 "cells": [
  {
   "cell_type": "code",
   "execution_count": null,
   "metadata": {},
   "outputs": [],
   "source": [
    "from splinter import Browser\n",
    "from bs4 import BeautifulSoup as bs\n",
    "import pandas as pd"
   ]
  },
  {
   "cell_type": "code",
   "execution_count": null,
   "metadata": {},
   "outputs": [],
   "source": [
    "def init_browser():\n",
    "# @NOTE: Replace the path with your actual path to the chromedriver\n",
    "    executable_path = {\"executable_path\": \"/usr/local/bin/chromedriver\"}\n",
    "    return Browser(\"chrome\", **executable_path, headless=True)"
   ]
  },
  {
   "cell_type": "code",
   "execution_count": null,
   "metadata": {},
   "outputs": [],
   "source": [
    "# Initialize browser & create an empty dict to use\n",
    "browser = init_browser()\n",
    "data = {}"
   ]
  },
  {
   "cell_type": "code",
   "execution_count": null,
   "metadata": {},
   "outputs": [],
   "source": [
    "# Scraping Mars news\n",
    "news_url = \"https://mars.nasa.gov/news/?page=0&per_page=40&order=publish_date+desc%2Ccreated_at+desc&search=&category=19%2C165%2C184%2C204&blank_scope=Latest\"\n",
    "browser.visit(news_url)\n",
    "news_html = browser.html\n",
    "news_soup = bs(news_html, \"lxml\")\n",
    "data[\"title\"] = news_soup.find(\"div\", class_=\"content_title\").get_text()\n",
    "data[\"content\"] = news_soup.find(\"div\", class_=\"article_teaser_body\").get_text()"
   ]
  },
  {
   "cell_type": "code",
   "execution_count": null,
   "metadata": {},
   "outputs": [],
   "source": [
    "# Scraping NASA Mars' image\n",
    "pics_url = \"https://www.jpl.nasa.gov/spaceimages/?search=&category=Mars\"\n",
    "browser.visit(pics_url)\n",
    "pics_html = browser.html\n",
    "pics_soup = bs(pics_html, \"lxml\")\n",
    "elem = pics_soup.find(class_=\"articles\")\n",
    "featured_image_url = \"https://www.jpl.nasa.gov/\" + elem.find(\"a\")[\"data-fancybox-href\"]\n",
    "featured_thumbnail_url = \"https://www.jpl.nasa.gov/\" + elem.find(\"a\")[\"data-thumbnail\"]\n",
    "data[\"pics\"] = featured_image_url\n",
    "data[\"thumbnail\"] = featured_thumbnail_url"
   ]
  },
  {
   "cell_type": "code",
   "execution_count": null,
   "metadata": {},
   "outputs": [],
   "source": [
    "# Scaping Twitter Mars' tweets\n",
    "twt_url = \"https://twitter.com/marswxreport?lang=en\"\n",
    "browser.visit(twt_url)\n",
    "twt_html = browser.html\n",
    "twt_soup = bs(twt_html, \"lxml\")\n",
    "data[\"tweet\"] = twt_soup.find(\"p\", class_=\"TweetTextSize TweetTextSize--normal js-tweet-text tweet-text\").get_text()"
   ]
  },
  {
   "cell_type": "code",
   "execution_count": null,
   "metadata": {},
   "outputs": [],
   "source": [
    "# Scaping Mars' Facts\n",
    "facts_url = \"https://space-facts.com/mars/\"\n",
    "browser.visit(facts_url)\n",
    "facts_html = browser.html\n",
    "facts_soup = bs(facts_html, \"lxml\")\n",
    "table_df = pd.read_html(facts_html)[0]\n",
    "facts_df = table_df.rename(columns = {\n",
    "    0:\"Facts\",\n",
    "    1:\"Values\"\n",
    "})\n",
    "# facts_df\n",
    "\n",
    "# Parse html table\n",
    "table_html = facts_df.to_html()\n",
    "table_html"
   ]
  },
  {
   "cell_type": "code",
   "execution_count": null,
   "metadata": {},
   "outputs": [],
   "source": [
    "# Scraping Cerberus Hemisphere Image\n",
    "weather_url1 = \"https://astrogeology.usgs.gov/search/results?q=hemisphere+enhanced&k1=target&v1=Mars\"\n",
    "browser.visit(weather_url1)\n",
    "browser.click_link_by_partial_text(\"Cerberus Hemisphere Enhanced\")\n",
    "cerb_html = browser.html\n",
    "cerb_soup = bs(cerb_html, \"lxml\")\n",
    "download_cerb = cerb_soup.find(\"div\", class_=\"downloads\")\n",
    "data[\"cerb\"] = download_cerb.find(\"a\")[\"href\"]"
   ]
  },
  {
   "cell_type": "code",
   "execution_count": null,
   "metadata": {},
   "outputs": [],
   "source": [
    "# Scraping Schiaparelli Hemisphere Image\n",
    "weather_url2 = \"https://astrogeology.usgs.gov/search/results?q=hemisphere+enhanced&k1=target&v1=Mars\"\n",
    "browser.visit(weather_url2)\n",
    "browser.click_link_by_partial_text(\"Schiaparelli Hemisphere Enhanced\")\n",
    "schi_html = browser.html\n",
    "schi_soup = bs(schi_html, \"lxml\")\n",
    "download_schi = schi_soup.find(\"div\", class_=\"downloads\")\n",
    "data[\"schi\"] = download_schi.find(\"a\")[\"href\"]"
   ]
  },
  {
   "cell_type": "code",
   "execution_count": null,
   "metadata": {},
   "outputs": [],
   "source": [
    "# Scraping Syrtis Major Hemisphere Image\n",
    "weather_url3 = \"https://astrogeology.usgs.gov/search/results?q=hemisphere+enhanced&k1=target&v1=Mars\"\n",
    "browser.visit(weather_url3)\n",
    "browser.click_link_by_partial_text(\"Syrtis Major Hemisphere Enhanced\")\n",
    "syrt_html = browser.html\n",
    "syrt_soup = bs(syrt_html, \"lxml\")\n",
    "download_syrt = syrt_soup.find(\"div\", class_=\"downloads\")\n",
    "data[\"syrt\"] = download_syrt.find(\"a\")[\"href\"]"
   ]
  },
  {
   "cell_type": "code",
   "execution_count": null,
   "metadata": {},
   "outputs": [],
   "source": [
    "# Scraping Valles Marineris Hemisphere Image\n",
    "weather_url4 = \"https://astrogeology.usgs.gov/search/results?q=hemisphere+enhanced&k1=target&v1=Mars\"\n",
    "browser.visit(weather_url4)\n",
    "browser.click_link_by_partial_text(\"Valles Marineris Hemisphere Enhanced\")\n",
    "vall_html = browser.html\n",
    "vall_soup = bs(vall_html, \"lxml\")\n",
    "download_vall = vall_soup.find(\"div\", class_=\"downloads\")\n",
    "data[\"vall\"] = download_vall.find(\"a\")[\"href\"]"
   ]
  }
 ],
 "metadata": {
  "kernelspec": {
   "display_name": "Python [conda env:PythonData]",
   "language": "python",
   "name": "conda-env-PythonData-py"
  },
  "language_info": {
   "codemirror_mode": {
    "name": "ipython",
    "version": 3
   },
   "file_extension": ".py",
   "mimetype": "text/x-python",
   "name": "python",
   "nbconvert_exporter": "python",
   "pygments_lexer": "ipython3",
   "version": "3.6.5"
  }
 },
 "nbformat": 4,
 "nbformat_minor": 2
}
